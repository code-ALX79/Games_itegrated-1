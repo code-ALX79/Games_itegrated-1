{
 "cells": [
  {
   "cell_type": "markdown",
   "metadata": {
    "tags": [
     "e5c1f0c2-db9f-43a0-99b9-4875c52427e8"
    ]
   },
   "source": [
    "# TRPLTN.PROYECT INT 1 S.5\n",
    "\n",
    "## Analisis de Aproximacion Anual para la Tienda Online de Videojuegos\n",
    "\n",
    " ___En esta Oportunidad tomaremos datos específicos del año anterior sobre las reseñas de usuarios y expertos, los géneros, las plataformas,y los datos históricos sobre las ventas de juegos que están disponibles en fuentes abiertas. Nuestro objetivo consiste en  identificar patrones que determinen si un juego tiene éxito o no. Esto permitirá detectar proyectos prometedores y planificar campañas publicitarias___.\n",
    " \n",
    " _Para my es un honor ser parte de este gran proyecto de analisis, ya que pondra a prueba mis habilidades mas relevantes, adquiridas hasta el momento, esperando que estas mismas me permitan completarlo con la mayor exactitud posible, para generar los mejores resultados para my compañia.Voy a generar Hipotesis objetivas, basandome en lo mas primordial, y sin perder de vista el principal motivo de este proyecto. Se lo importate que es para todos los departamnetos de la corporacion y No los voy a defraudar, estare siempre consentrado y motivado a resalizar el trabajo de la mejor manera posible_.\n"
   ]
  },
  {
   "cell_type": "markdown",
   "metadata": {},
   "source": [
    "# 1. Importar las librerias "
   ]
  },
  {
   "cell_type": "code",
   "execution_count": 421,
   "metadata": {},
   "outputs": [],
   "source": [
    "import pandas as pd\n",
    "import numpy as np\n",
    "import matplotlib.pyplot as plt\n",
    "from scipy import stats"
   ]
  },
  {
   "cell_type": "markdown",
   "metadata": {},
   "source": [
    "### Se abre el archivo de datos."
   ]
  },
  {
   "cell_type": "code",
   "execution_count": 422,
   "metadata": {},
   "outputs": [
    {
     "data": {
      "text/html": [
       "<div>\n",
       "<style scoped>\n",
       "    .dataframe tbody tr th:only-of-type {\n",
       "        vertical-align: middle;\n",
       "    }\n",
       "\n",
       "    .dataframe tbody tr th {\n",
       "        vertical-align: top;\n",
       "    }\n",
       "\n",
       "    .dataframe thead th {\n",
       "        text-align: right;\n",
       "    }\n",
       "</style>\n",
       "<table border=\"1\" class=\"dataframe\">\n",
       "  <thead>\n",
       "    <tr style=\"text-align: right;\">\n",
       "      <th></th>\n",
       "      <th>Name</th>\n",
       "      <th>Platform</th>\n",
       "      <th>Year_of_Release</th>\n",
       "      <th>Genre</th>\n",
       "      <th>NA_sales</th>\n",
       "      <th>EU_sales</th>\n",
       "      <th>JP_sales</th>\n",
       "      <th>Other_sales</th>\n",
       "      <th>Critic_Score</th>\n",
       "      <th>User_Score</th>\n",
       "      <th>Rating</th>\n",
       "    </tr>\n",
       "  </thead>\n",
       "  <tbody>\n",
       "    <tr>\n",
       "      <th>0</th>\n",
       "      <td>Wii Sports</td>\n",
       "      <td>Wii</td>\n",
       "      <td>2006.0</td>\n",
       "      <td>Sports</td>\n",
       "      <td>41.36</td>\n",
       "      <td>28.96</td>\n",
       "      <td>3.77</td>\n",
       "      <td>8.45</td>\n",
       "      <td>76.0</td>\n",
       "      <td>8</td>\n",
       "      <td>E</td>\n",
       "    </tr>\n",
       "    <tr>\n",
       "      <th>1</th>\n",
       "      <td>Super Mario Bros.</td>\n",
       "      <td>NES</td>\n",
       "      <td>1985.0</td>\n",
       "      <td>Platform</td>\n",
       "      <td>29.08</td>\n",
       "      <td>3.58</td>\n",
       "      <td>6.81</td>\n",
       "      <td>0.77</td>\n",
       "      <td>NaN</td>\n",
       "      <td>NaN</td>\n",
       "      <td>NaN</td>\n",
       "    </tr>\n",
       "    <tr>\n",
       "      <th>2</th>\n",
       "      <td>Mario Kart Wii</td>\n",
       "      <td>Wii</td>\n",
       "      <td>2008.0</td>\n",
       "      <td>Racing</td>\n",
       "      <td>15.68</td>\n",
       "      <td>12.76</td>\n",
       "      <td>3.79</td>\n",
       "      <td>3.29</td>\n",
       "      <td>82.0</td>\n",
       "      <td>8.3</td>\n",
       "      <td>E</td>\n",
       "    </tr>\n",
       "    <tr>\n",
       "      <th>3</th>\n",
       "      <td>Wii Sports Resort</td>\n",
       "      <td>Wii</td>\n",
       "      <td>2009.0</td>\n",
       "      <td>Sports</td>\n",
       "      <td>15.61</td>\n",
       "      <td>10.93</td>\n",
       "      <td>3.28</td>\n",
       "      <td>2.95</td>\n",
       "      <td>80.0</td>\n",
       "      <td>8</td>\n",
       "      <td>E</td>\n",
       "    </tr>\n",
       "    <tr>\n",
       "      <th>4</th>\n",
       "      <td>Pokemon Red/Pokemon Blue</td>\n",
       "      <td>GB</td>\n",
       "      <td>1996.0</td>\n",
       "      <td>Role-Playing</td>\n",
       "      <td>11.27</td>\n",
       "      <td>8.89</td>\n",
       "      <td>10.22</td>\n",
       "      <td>1.00</td>\n",
       "      <td>NaN</td>\n",
       "      <td>NaN</td>\n",
       "      <td>NaN</td>\n",
       "    </tr>\n",
       "  </tbody>\n",
       "</table>\n",
       "</div>"
      ],
      "text/plain": [
       "                       Name Platform  Year_of_Release         Genre  NA_sales  \\\n",
       "0                Wii Sports      Wii           2006.0        Sports     41.36   \n",
       "1         Super Mario Bros.      NES           1985.0      Platform     29.08   \n",
       "2            Mario Kart Wii      Wii           2008.0        Racing     15.68   \n",
       "3         Wii Sports Resort      Wii           2009.0        Sports     15.61   \n",
       "4  Pokemon Red/Pokemon Blue       GB           1996.0  Role-Playing     11.27   \n",
       "\n",
       "   EU_sales  JP_sales  Other_sales  Critic_Score User_Score Rating  \n",
       "0     28.96      3.77         8.45          76.0          8      E  \n",
       "1      3.58      6.81         0.77           NaN        NaN    NaN  \n",
       "2     12.76      3.79         3.29          82.0        8.3      E  \n",
       "3     10.93      3.28         2.95          80.0          8      E  \n",
       "4      8.89     10.22         1.00           NaN        NaN    NaN  "
      ]
     },
     "execution_count": 422,
     "metadata": {},
     "output_type": "execute_result"
    }
   ],
   "source": [
    "df_gms = pd.read_csv('https://practicum-content.s3.us-west-1.amazonaws.com/datasets/games.csv')\n",
    "df_gms.head()"
   ]
  },
  {
   "cell_type": "markdown",
   "metadata": {},
   "source": [
    "###  Se estudia la información general"
   ]
  },
  {
   "cell_type": "code",
   "execution_count": 423,
   "metadata": {},
   "outputs": [
    {
     "name": "stdout",
     "output_type": "stream",
     "text": [
      "<class 'pandas.core.frame.DataFrame'>\n",
      "RangeIndex: 16715 entries, 0 to 16714\n",
      "Data columns (total 11 columns):\n",
      " #   Column           Non-Null Count  Dtype  \n",
      "---  ------           --------------  -----  \n",
      " 0   Name             16713 non-null  object \n",
      " 1   Platform         16715 non-null  object \n",
      " 2   Year_of_Release  16446 non-null  float64\n",
      " 3   Genre            16713 non-null  object \n",
      " 4   NA_sales         16715 non-null  float64\n",
      " 5   EU_sales         16715 non-null  float64\n",
      " 6   JP_sales         16715 non-null  float64\n",
      " 7   Other_sales      16715 non-null  float64\n",
      " 8   Critic_Score     8137 non-null   float64\n",
      " 9   User_Score       10014 non-null  object \n",
      " 10  Rating           9949 non-null   object \n",
      "dtypes: float64(6), object(5)\n",
      "memory usage: 1.4+ MB\n"
     ]
    }
   ],
   "source": [
    "df_gms.info()"
   ]
  },
  {
   "cell_type": "markdown",
   "metadata": {},
   "source": [
    "Podemos Observar que hay columnas con datos ausentes (**Critic_Score, Year_of_Relese, User_Score, Rating**).A continuacion vamos mostar los datos duplicados para decartar posibles inconsistencia en las graficas."
   ]
  },
  {
   "cell_type": "code",
   "execution_count": 424,
   "metadata": {},
   "outputs": [
    {
     "data": {
      "text/plain": [
       "0"
      ]
     },
     "execution_count": 424,
     "metadata": {},
     "output_type": "execute_result"
    }
   ],
   "source": [
    "df_gms.duplicated().sum()"
   ]
  },
  {
   "cell_type": "markdown",
   "metadata": {},
   "source": [
    "Asi podremos continuar nuestro analisis con seguridad de obtener la mayor cantidad de exactitud en nuestros resultados."
   ]
  },
  {
   "cell_type": "markdown",
   "metadata": {},
   "source": [
    "## Preparar los datos "
   ]
  },
  {
   "cell_type": "code",
   "execution_count": 425,
   "metadata": {
    "scrolled": true
   },
   "outputs": [
    {
     "data": {
      "text/plain": [
       "Name                0.011965\n",
       "Platform            0.000000\n",
       "Year_of_Release     1.609333\n",
       "Genre               0.011965\n",
       "NA_sales            0.000000\n",
       "EU_sales            0.000000\n",
       "JP_sales            0.000000\n",
       "Other_sales         0.000000\n",
       "Critic_Score       51.319174\n",
       "User_Score         40.089740\n",
       "Rating             40.478612\n",
       "dtype: float64"
      ]
     },
     "execution_count": 425,
     "metadata": {},
     "output_type": "execute_result"
    }
   ],
   "source": [
    "n_rows = df_gms.shape[0]\n",
    "100 * df_gms.isna().sum() / n_rows"
   ]
  },
  {
   "cell_type": "markdown",
   "metadata": {},
   "source": [
    "Especificamos la cantidad de valores ausentes en nuestras filas y determinamos que hay un (***51% de estos en la columna Critic_Score, 40% en la columna User_score, y un 40% mas en la columna Rating***). En su mayoria se enccuentran destriburidos en estas 3 columnas especificas."
   ]
  },
  {
   "cell_type": "markdown",
   "metadata": {},
   "source": [
    "la columna Year_of_Release se encutentra en el tipo de dato incorrecto. La transformaremos a __entero__, ya que no necesariamnete la deberia ser  como float64 o datetime."
   ]
  },
  {
   "cell_type": "code",
   "execution_count": 426,
   "metadata": {},
   "outputs": [],
   "source": [
    "df_gms['Year_of_Release'] = df_gms['Year_of_Release']\n",
    "df_gms['Year_of_Release'] = df_gms['Year_of_Release']"
   ]
  },
  {
   "cell_type": "code",
   "execution_count": 427,
   "metadata": {},
   "outputs": [
    {
     "data": {
      "text/plain": [
       "dtype('float64')"
      ]
     },
     "execution_count": 427,
     "metadata": {},
     "output_type": "execute_result"
    }
   ],
   "source": [
    "(df_gms['Year_of_Release'].dtype) "
   ]
  },
  {
   "cell_type": "code",
   "execution_count": 428,
   "metadata": {},
   "outputs": [
    {
     "data": {
      "text/plain": [
       "0        2006.0\n",
       "1        1985.0\n",
       "2        2008.0\n",
       "3        2009.0\n",
       "4        1996.0\n",
       "          ...  \n",
       "16710    2016.0\n",
       "16711    2006.0\n",
       "16712    2016.0\n",
       "16713    2003.0\n",
       "16714    2016.0\n",
       "Name: Year_of_Release, Length: 16715, dtype: float64"
      ]
     },
     "execution_count": 428,
     "metadata": {},
     "output_type": "execute_result"
    }
   ],
   "source": [
    "df_gms['Year_of_Release']"
   ]
  },
  {
   "cell_type": "markdown",
   "metadata": {},
   "source": [
    "Transformaamos la columna  (**Year of Realese**)  del tipo float64 al tipo int64 para eliminar el dato decimal.\n",
    "si es necesario  podriamos cambiarla a Daetetime, para acceder a algun atributo, pero por el momento lo vamos a dejar asi"
   ]
  },
  {
   "cell_type": "markdown",
   "metadata": {},
   "source": [
    "Consecuente a esto, tambien nos  serioraremos de la existencia o inexistencia de los valores que esten diplicados."
   ]
  },
  {
   "cell_type": "code",
   "execution_count": 429,
   "metadata": {},
   "outputs": [
    {
     "data": {
      "text/plain": [
       "0"
      ]
     },
     "execution_count": 429,
     "metadata": {},
     "output_type": "execute_result"
    }
   ],
   "source": [
    "df_gms.duplicated().sum()"
   ]
  },
  {
   "cell_type": "markdown",
   "metadata": {},
   "source": [
    "Al verificar que no existan valores duplicados, solo deberiamos cambiar los nombres de las columnas para poer trabajr de mejor manera con estas."
   ]
  },
  {
   "cell_type": "code",
   "execution_count": 430,
   "metadata": {},
   "outputs": [
    {
     "data": {
      "text/plain": [
       "Index(['Name', 'Platform', 'Year_of_Release', 'Genre', 'NA_sales', 'EU_sales',\n",
       "       'JP_sales', 'Other_sales', 'Critic_Score', 'User_Score', 'Rating'],\n",
       "      dtype='object')"
      ]
     },
     "execution_count": 430,
     "metadata": {},
     "output_type": "execute_result"
    }
   ],
   "source": [
    "df_gms.columns"
   ]
  },
  {
   "cell_type": "code",
   "execution_count": 431,
   "metadata": {},
   "outputs": [],
   "source": [
    "df_gms.rename(columns = {'Name':'name',\n",
    "                        'Platform':'platform',\n",
    "                        'Year_of_Release':'year_of_release',\n",
    "                        'Genre':'genre',\n",
    "                        'NA_sales':'na_sales',\n",
    "                        'EU_sales':'eu_sales',\n",
    "                        'JP_sales':'jp_sales',\n",
    "                        'Other_sales':'other_sales',\n",
    "                        'Critic_Score':'critic_score',\n",
    "                        'User_Score':'user_score',\n",
    "                        'Rating':'rating'},inplace=True)"
   ]
  },
  {
   "cell_type": "code",
   "execution_count": 432,
   "metadata": {},
   "outputs": [
    {
     "data": {
      "text/plain": [
       "Index(['name', 'platform', 'year_of_release', 'genre', 'na_sales', 'eu_sales',\n",
       "       'jp_sales', 'other_sales', 'critic_score', 'user_score', 'rating'],\n",
       "      dtype='object')"
      ]
     },
     "execution_count": 432,
     "metadata": {},
     "output_type": "execute_result"
    }
   ],
   "source": [
    "df_gms.columns"
   ]
  },
  {
   "cell_type": "markdown",
   "metadata": {},
   "source": [
    "### trabajar los valores ausentes"
   ]
  },
  {
   "cell_type": "code",
   "execution_count": 433,
   "metadata": {},
   "outputs": [
    {
     "data": {
      "text/plain": [
       "name                0.011965\n",
       "platform            0.000000\n",
       "year_of_release     1.609333\n",
       "genre               0.011965\n",
       "na_sales            0.000000\n",
       "eu_sales            0.000000\n",
       "jp_sales            0.000000\n",
       "other_sales         0.000000\n",
       "critic_score       51.319174\n",
       "user_score         40.089740\n",
       "rating             40.478612\n",
       "dtype: float64"
      ]
     },
     "execution_count": 433,
     "metadata": {},
     "output_type": "execute_result"
    }
   ],
   "source": [
    "n_rows = df_gms.shape[0]\n",
    "100 * df_gms.isna().sum() / n_rows"
   ]
  },
  {
   "cell_type": "markdown",
   "metadata": {},
   "source": [
    "La Mayor cantidad de valores ausentes esta en la columna (**critic_score**), con un _51%_ de valores usentes en esta columna, la cual nos dicta calificaciones de los críticos para los juegos, representadas como un valor numérico en una escala de 0 a 100. Estas calificaciones suelen ser proporcionadas por sitios web, revistas especializadas u otras fuentes de revisión de juegos  "
   ]
  },
  {
   "cell_type": "markdown",
   "metadata": {},
   "source": [
    "Como son muchos valores ausentes, y no se encutra relacion con otras columnas para realizar una imputacion, vamos a asumir que los valores ausentes en esta columna, podrían deberse a que algunos juegos no han sido calificados por los críticos, y de momento la vamos a manterner asi."
   ]
  },
  {
   "cell_type": "code",
   "execution_count": 434,
   "metadata": {},
   "outputs": [
    {
     "data": {
      "text/plain": [
       "6701"
      ]
     },
     "execution_count": 434,
     "metadata": {},
     "output_type": "execute_result"
    }
   ],
   "source": [
    "df_gms['user_score'].isna().sum()"
   ]
  },
  {
   "cell_type": "markdown",
   "metadata": {},
   "source": [
    "La columna que dictamina las calificasiones de los usuarios para cada juego (**user_score**), tambien cuenta con una gran cantidad de valores ausentes.los valores ausentes en esta columna podrían deberse a que algunos juegos no han sido calificados por los usuarios."
   ]
  },
  {
   "cell_type": "code",
   "execution_count": 435,
   "metadata": {},
   "outputs": [
    {
     "data": {
      "text/plain": [
       "2424"
      ]
     },
     "execution_count": 435,
     "metadata": {},
     "output_type": "execute_result"
    }
   ],
   "source": [
    "tbd_count = df_gms['user_score'].str.contains('tbd').sum()\n",
    "tbd_count"
   ]
  },
  {
   "cell_type": "markdown",
   "metadata": {},
   "source": [
    "\"tbd\" generalmente se utiliza en la industria de los videojuegos para indicar que la información  que está \"por determinar\" o \"por definir\". En el caso de la columna que denota la calificasion del usuario para cada videojuego (**user_score**). Vamos a reeplazarla por valores ausentes NAN."
   ]
  },
  {
   "cell_type": "code",
   "execution_count": 436,
   "metadata": {},
   "outputs": [
    {
     "data": {
      "text/plain": [
       "2424"
      ]
     },
     "execution_count": 436,
     "metadata": {},
     "output_type": "execute_result"
    }
   ],
   "source": [
    "df_gms['user_score'] = df_gms['user_score'].replace('tbd', np.nan)\n",
    "tbd_count"
   ]
  },
  {
   "cell_type": "markdown",
   "metadata": {},
   "source": [
    "Reemplazamos con NaN, los valores 'tbd', para no tener afectasiones futuras. Ahora vamos a verificar de nuevo como vamos resulta  distribusion de valores ausentes en nustras filas"
   ]
  },
  {
   "cell_type": "code",
   "execution_count": 437,
   "metadata": {},
   "outputs": [
    {
     "data": {
      "text/plain": [
       "name                0.011965\n",
       "platform            0.000000\n",
       "year_of_release     1.609333\n",
       "genre               0.011965\n",
       "na_sales            0.000000\n",
       "eu_sales            0.000000\n",
       "jp_sales            0.000000\n",
       "other_sales         0.000000\n",
       "critic_score       51.319174\n",
       "user_score         54.591684\n",
       "rating             40.478612\n",
       "dtype: float64"
      ]
     },
     "execution_count": 437,
     "metadata": {},
     "output_type": "execute_result"
    }
   ],
   "source": [
    "n_rows = df_gms.shape[0]\n",
    "100 * df_gms.isna().sum() / n_rows"
   ]
  },
  {
   "cell_type": "markdown",
   "metadata": {},
   "source": [
    "Nuestra distribusion de valores ausentes en las filas ahora muestra,un incremento del **14%** de estos que corresponden a ,los valores en 'tbd' que reeplazamos por NaNs."
   ]
  },
  {
   "cell_type": "code",
   "execution_count": 438,
   "metadata": {},
   "outputs": [
    {
     "data": {
      "text/html": [
       "<div>\n",
       "<style scoped>\n",
       "    .dataframe tbody tr th:only-of-type {\n",
       "        vertical-align: middle;\n",
       "    }\n",
       "\n",
       "    .dataframe tbody tr th {\n",
       "        vertical-align: top;\n",
       "    }\n",
       "\n",
       "    .dataframe thead th {\n",
       "        text-align: right;\n",
       "    }\n",
       "</style>\n",
       "<table border=\"1\" class=\"dataframe\">\n",
       "  <thead>\n",
       "    <tr style=\"text-align: right;\">\n",
       "      <th></th>\n",
       "      <th>year_of_release</th>\n",
       "      <th>na_sales</th>\n",
       "      <th>eu_sales</th>\n",
       "      <th>jp_sales</th>\n",
       "      <th>other_sales</th>\n",
       "      <th>critic_score</th>\n",
       "    </tr>\n",
       "  </thead>\n",
       "  <tbody>\n",
       "    <tr>\n",
       "      <th>count</th>\n",
       "      <td>16446.000000</td>\n",
       "      <td>16715.000000</td>\n",
       "      <td>16715.000000</td>\n",
       "      <td>16715.000000</td>\n",
       "      <td>16715.000000</td>\n",
       "      <td>8137.000000</td>\n",
       "    </tr>\n",
       "    <tr>\n",
       "      <th>mean</th>\n",
       "      <td>2006.484616</td>\n",
       "      <td>0.263377</td>\n",
       "      <td>0.145060</td>\n",
       "      <td>0.077617</td>\n",
       "      <td>0.047342</td>\n",
       "      <td>68.967679</td>\n",
       "    </tr>\n",
       "    <tr>\n",
       "      <th>std</th>\n",
       "      <td>5.877050</td>\n",
       "      <td>0.813604</td>\n",
       "      <td>0.503339</td>\n",
       "      <td>0.308853</td>\n",
       "      <td>0.186731</td>\n",
       "      <td>13.938165</td>\n",
       "    </tr>\n",
       "    <tr>\n",
       "      <th>min</th>\n",
       "      <td>1980.000000</td>\n",
       "      <td>0.000000</td>\n",
       "      <td>0.000000</td>\n",
       "      <td>0.000000</td>\n",
       "      <td>0.000000</td>\n",
       "      <td>13.000000</td>\n",
       "    </tr>\n",
       "    <tr>\n",
       "      <th>25%</th>\n",
       "      <td>2003.000000</td>\n",
       "      <td>0.000000</td>\n",
       "      <td>0.000000</td>\n",
       "      <td>0.000000</td>\n",
       "      <td>0.000000</td>\n",
       "      <td>60.000000</td>\n",
       "    </tr>\n",
       "    <tr>\n",
       "      <th>50%</th>\n",
       "      <td>2007.000000</td>\n",
       "      <td>0.080000</td>\n",
       "      <td>0.020000</td>\n",
       "      <td>0.000000</td>\n",
       "      <td>0.010000</td>\n",
       "      <td>71.000000</td>\n",
       "    </tr>\n",
       "    <tr>\n",
       "      <th>75%</th>\n",
       "      <td>2010.000000</td>\n",
       "      <td>0.240000</td>\n",
       "      <td>0.110000</td>\n",
       "      <td>0.040000</td>\n",
       "      <td>0.030000</td>\n",
       "      <td>79.000000</td>\n",
       "    </tr>\n",
       "    <tr>\n",
       "      <th>max</th>\n",
       "      <td>2016.000000</td>\n",
       "      <td>41.360000</td>\n",
       "      <td>28.960000</td>\n",
       "      <td>10.220000</td>\n",
       "      <td>10.570000</td>\n",
       "      <td>98.000000</td>\n",
       "    </tr>\n",
       "  </tbody>\n",
       "</table>\n",
       "</div>"
      ],
      "text/plain": [
       "       year_of_release      na_sales      eu_sales      jp_sales  \\\n",
       "count     16446.000000  16715.000000  16715.000000  16715.000000   \n",
       "mean       2006.484616      0.263377      0.145060      0.077617   \n",
       "std           5.877050      0.813604      0.503339      0.308853   \n",
       "min        1980.000000      0.000000      0.000000      0.000000   \n",
       "25%        2003.000000      0.000000      0.000000      0.000000   \n",
       "50%        2007.000000      0.080000      0.020000      0.000000   \n",
       "75%        2010.000000      0.240000      0.110000      0.040000   \n",
       "max        2016.000000     41.360000     28.960000     10.220000   \n",
       "\n",
       "        other_sales  critic_score  \n",
       "count  16715.000000   8137.000000  \n",
       "mean       0.047342     68.967679  \n",
       "std        0.186731     13.938165  \n",
       "min        0.000000     13.000000  \n",
       "25%        0.000000     60.000000  \n",
       "50%        0.010000     71.000000  \n",
       "75%        0.030000     79.000000  \n",
       "max       10.570000     98.000000  "
      ]
     },
     "execution_count": 438,
     "metadata": {},
     "output_type": "execute_result"
    }
   ],
   "source": [
    "df_gms.describe()"
   ]
  },
  {
   "cell_type": "markdown",
   "metadata": {},
   "source": [
    "Luego de realizar los cambios necesarios, tambien hacemos una descripcion de la tabla para verificar como va nustro  preprocesamiento, antes de pasar a la siguinete intsancia. "
   ]
  },
  {
   "cell_type": "markdown",
   "metadata": {},
   "source": [
    "tenemos buenas medias y medianas y una proporsion de ventas similares en **jp_sales**,**eu_sales**, y **other_sales**, asi que vamos a crear una columna adicional en el Dataframe que nos muestre las ventas totales sumadas de todas las resgiones."
   ]
  },
  {
   "cell_type": "markdown",
   "metadata": {},
   "source": [
    "### calculo de las ventas totales de cada region"
   ]
  },
  {
   "cell_type": "code",
   "execution_count": 439,
   "metadata": {},
   "outputs": [
    {
     "data": {
      "text/html": [
       "<div>\n",
       "<style scoped>\n",
       "    .dataframe tbody tr th:only-of-type {\n",
       "        vertical-align: middle;\n",
       "    }\n",
       "\n",
       "    .dataframe tbody tr th {\n",
       "        vertical-align: top;\n",
       "    }\n",
       "\n",
       "    .dataframe thead th {\n",
       "        text-align: right;\n",
       "    }\n",
       "</style>\n",
       "<table border=\"1\" class=\"dataframe\">\n",
       "  <thead>\n",
       "    <tr style=\"text-align: right;\">\n",
       "      <th></th>\n",
       "      <th>name</th>\n",
       "      <th>platform</th>\n",
       "      <th>year_of_release</th>\n",
       "      <th>genre</th>\n",
       "      <th>na_sales</th>\n",
       "      <th>eu_sales</th>\n",
       "      <th>jp_sales</th>\n",
       "      <th>other_sales</th>\n",
       "      <th>critic_score</th>\n",
       "      <th>user_score</th>\n",
       "      <th>rating</th>\n",
       "      <th>all_sales</th>\n",
       "    </tr>\n",
       "  </thead>\n",
       "  <tbody>\n",
       "    <tr>\n",
       "      <th>0</th>\n",
       "      <td>Wii Sports</td>\n",
       "      <td>Wii</td>\n",
       "      <td>2006.0</td>\n",
       "      <td>Sports</td>\n",
       "      <td>41.36</td>\n",
       "      <td>28.96</td>\n",
       "      <td>3.77</td>\n",
       "      <td>8.45</td>\n",
       "      <td>76.0</td>\n",
       "      <td>8</td>\n",
       "      <td>E</td>\n",
       "      <td>82.54</td>\n",
       "    </tr>\n",
       "    <tr>\n",
       "      <th>1</th>\n",
       "      <td>Super Mario Bros.</td>\n",
       "      <td>NES</td>\n",
       "      <td>1985.0</td>\n",
       "      <td>Platform</td>\n",
       "      <td>29.08</td>\n",
       "      <td>3.58</td>\n",
       "      <td>6.81</td>\n",
       "      <td>0.77</td>\n",
       "      <td>NaN</td>\n",
       "      <td>NaN</td>\n",
       "      <td>NaN</td>\n",
       "      <td>40.24</td>\n",
       "    </tr>\n",
       "  </tbody>\n",
       "</table>\n",
       "</div>"
      ],
      "text/plain": [
       "                name platform  year_of_release     genre  na_sales  eu_sales  \\\n",
       "0         Wii Sports      Wii           2006.0    Sports     41.36     28.96   \n",
       "1  Super Mario Bros.      NES           1985.0  Platform     29.08      3.58   \n",
       "\n",
       "   jp_sales  other_sales  critic_score user_score rating  all_sales  \n",
       "0      3.77         8.45          76.0          8      E      82.54  \n",
       "1      6.81         0.77           NaN        NaN    NaN      40.24  "
      ]
     },
     "execution_count": 439,
     "metadata": {},
     "output_type": "execute_result"
    }
   ],
   "source": [
    "all_sales= df_gms['jp_sales'] + df_gms['eu_sales'] + df_gms['na_sales'] + df_gms['other_sales']\n",
    "df_gms['all_sales'] = [0 if x < 0 else x for x in all_sales]\n",
    "df_gms.query('all_sales > 0').head(2)"
   ]
  },
  {
   "cell_type": "markdown",
   "metadata": {},
   "source": [
    "Se crea una nueva columna **'all_sales'**, que suma las ventas de cada reguion en especifico para cada juego.Ahora podremos tomarla en cuenta para seguir con nuestro analisis."
   ]
  },
  {
   "cell_type": "code",
   "execution_count": 440,
   "metadata": {},
   "outputs": [
    {
     "data": {
      "text/html": [
       "<div>\n",
       "<style scoped>\n",
       "    .dataframe tbody tr th:only-of-type {\n",
       "        vertical-align: middle;\n",
       "    }\n",
       "\n",
       "    .dataframe tbody tr th {\n",
       "        vertical-align: top;\n",
       "    }\n",
       "\n",
       "    .dataframe thead th {\n",
       "        text-align: right;\n",
       "    }\n",
       "</style>\n",
       "<table border=\"1\" class=\"dataframe\">\n",
       "  <thead>\n",
       "    <tr style=\"text-align: right;\">\n",
       "      <th></th>\n",
       "      <th>year_of_release</th>\n",
       "      <th>count</th>\n",
       "    </tr>\n",
       "  </thead>\n",
       "  <tbody>\n",
       "    <tr>\n",
       "      <th>0</th>\n",
       "      <td>2008.0</td>\n",
       "      <td>1427</td>\n",
       "    </tr>\n",
       "    <tr>\n",
       "      <th>1</th>\n",
       "      <td>2009.0</td>\n",
       "      <td>1426</td>\n",
       "    </tr>\n",
       "    <tr>\n",
       "      <th>2</th>\n",
       "      <td>2010.0</td>\n",
       "      <td>1255</td>\n",
       "    </tr>\n",
       "    <tr>\n",
       "      <th>3</th>\n",
       "      <td>2007.0</td>\n",
       "      <td>1197</td>\n",
       "    </tr>\n",
       "    <tr>\n",
       "      <th>4</th>\n",
       "      <td>2011.0</td>\n",
       "      <td>1136</td>\n",
       "    </tr>\n",
       "  </tbody>\n",
       "</table>\n",
       "</div>"
      ],
      "text/plain": [
       "   year_of_release  count\n",
       "0           2008.0   1427\n",
       "1           2009.0   1426\n",
       "2           2010.0   1255\n",
       "3           2007.0   1197\n",
       "4           2011.0   1136"
      ]
     },
     "execution_count": 440,
     "metadata": {},
     "output_type": "execute_result"
    }
   ],
   "source": [
    "games_per_year = df_gms['year_of_release'].value_counts()\n",
    "games_per_year.reset_index().head()"
   ]
  },
  {
   "cell_type": "markdown",
   "metadata": {},
   "source": [
    "Podemos observar que a medida que el tiempo avanza, la cantidad de juegos lanzados, y concon mayor  infierencia en el aumento de la misma."
   ]
  },
  {
   "cell_type": "code",
   "execution_count": 441,
   "metadata": {},
   "outputs": [
    {
     "data": {
      "text/html": [
       "<div>\n",
       "<style scoped>\n",
       "    .dataframe tbody tr th:only-of-type {\n",
       "        vertical-align: middle;\n",
       "    }\n",
       "\n",
       "    .dataframe tbody tr th {\n",
       "        vertical-align: top;\n",
       "    }\n",
       "\n",
       "    .dataframe thead th {\n",
       "        text-align: right;\n",
       "    }\n",
       "</style>\n",
       "<table border=\"1\" class=\"dataframe\">\n",
       "  <thead>\n",
       "    <tr style=\"text-align: right;\">\n",
       "      <th></th>\n",
       "      <th>year_of_release</th>\n",
       "      <th>num_games</th>\n",
       "    </tr>\n",
       "  </thead>\n",
       "  <tbody>\n",
       "    <tr>\n",
       "      <th>0</th>\n",
       "      <td>1980.0</td>\n",
       "      <td>9</td>\n",
       "    </tr>\n",
       "    <tr>\n",
       "      <th>1</th>\n",
       "      <td>1981.0</td>\n",
       "      <td>46</td>\n",
       "    </tr>\n",
       "    <tr>\n",
       "      <th>2</th>\n",
       "      <td>1982.0</td>\n",
       "      <td>36</td>\n",
       "    </tr>\n",
       "    <tr>\n",
       "      <th>3</th>\n",
       "      <td>1983.0</td>\n",
       "      <td>17</td>\n",
       "    </tr>\n",
       "    <tr>\n",
       "      <th>4</th>\n",
       "      <td>1984.0</td>\n",
       "      <td>14</td>\n",
       "    </tr>\n",
       "  </tbody>\n",
       "</table>\n",
       "</div>"
      ],
      "text/plain": [
       "   year_of_release  num_games\n",
       "0           1980.0          9\n",
       "1           1981.0         46\n",
       "2           1982.0         36\n",
       "3           1983.0         17\n",
       "4           1984.0         14"
      ]
     },
     "execution_count": 441,
     "metadata": {},
     "output_type": "execute_result"
    }
   ],
   "source": [
    "games_per_year = df_gms.groupby('year_of_release').size().reset_index(name='num_games')\n",
    "games_per_year.head()"
   ]
  },
  {
   "cell_type": "code",
   "execution_count": 442,
   "metadata": {},
   "outputs": [
    {
     "data": {
      "text/html": [
       "<div>\n",
       "<style scoped>\n",
       "    .dataframe tbody tr th:only-of-type {\n",
       "        vertical-align: middle;\n",
       "    }\n",
       "\n",
       "    .dataframe tbody tr th {\n",
       "        vertical-align: top;\n",
       "    }\n",
       "\n",
       "    .dataframe thead th {\n",
       "        text-align: right;\n",
       "    }\n",
       "</style>\n",
       "<table border=\"1\" class=\"dataframe\">\n",
       "  <thead>\n",
       "    <tr style=\"text-align: right;\">\n",
       "      <th></th>\n",
       "      <th>year_of_release</th>\n",
       "      <th>num_games</th>\n",
       "    </tr>\n",
       "  </thead>\n",
       "  <tbody>\n",
       "    <tr>\n",
       "      <th>32</th>\n",
       "      <td>2012.0</td>\n",
       "      <td>653</td>\n",
       "    </tr>\n",
       "    <tr>\n",
       "      <th>33</th>\n",
       "      <td>2013.0</td>\n",
       "      <td>544</td>\n",
       "    </tr>\n",
       "    <tr>\n",
       "      <th>34</th>\n",
       "      <td>2014.0</td>\n",
       "      <td>581</td>\n",
       "    </tr>\n",
       "    <tr>\n",
       "      <th>35</th>\n",
       "      <td>2015.0</td>\n",
       "      <td>606</td>\n",
       "    </tr>\n",
       "    <tr>\n",
       "      <th>36</th>\n",
       "      <td>2016.0</td>\n",
       "      <td>502</td>\n",
       "    </tr>\n",
       "  </tbody>\n",
       "</table>\n",
       "</div>"
      ],
      "text/plain": [
       "    year_of_release  num_games\n",
       "32           2012.0        653\n",
       "33           2013.0        544\n",
       "34           2014.0        581\n",
       "35           2015.0        606\n",
       "36           2016.0        502"
      ]
     },
     "execution_count": 442,
     "metadata": {},
     "output_type": "execute_result"
    }
   ],
   "source": [
    "games_per_year.tail()"
   ]
  },
  {
   "cell_type": "markdown",
   "metadata": {},
   "source": [
    "Al agrupar los datos por año de lanzanzamiento, contamos el numero de juegos lanzados por año utilizando el metodo .size(), creamos una nueva columna llamda **num_games**,  para obetner un DataFrame con dos columnas: 'year_of_release' y 'num_games', que muestra cuántos juegos fueron lanzados en cada año."
   ]
  },
  {
   "cell_type": "markdown",
   "metadata": {},
   "source": [
    "# 3 Analizar los Datos. Analizando las ventas por plataforma"
   ]
  },
  {
   "cell_type": "markdown",
   "metadata": {},
   "source": [
    "Realizamos un analisis para obersar las ventas totales en nuestra columna 'all_sales', en cada una de las plataformas independientes mediante ciertas agrupaciones."
   ]
  },
  {
   "cell_type": "code",
   "execution_count": 443,
   "metadata": {},
   "outputs": [
    {
     "data": {
      "text/html": [
       "<div>\n",
       "<style scoped>\n",
       "    .dataframe tbody tr th:only-of-type {\n",
       "        vertical-align: middle;\n",
       "    }\n",
       "\n",
       "    .dataframe tbody tr th {\n",
       "        vertical-align: top;\n",
       "    }\n",
       "\n",
       "    .dataframe thead th {\n",
       "        text-align: right;\n",
       "    }\n",
       "</style>\n",
       "<table border=\"1\" class=\"dataframe\">\n",
       "  <thead>\n",
       "    <tr style=\"text-align: right;\">\n",
       "      <th></th>\n",
       "      <th>platform</th>\n",
       "      <th>all_sales</th>\n",
       "    </tr>\n",
       "  </thead>\n",
       "  <tbody>\n",
       "    <tr>\n",
       "      <th>0</th>\n",
       "      <td>PS2</td>\n",
       "      <td>1255.77</td>\n",
       "    </tr>\n",
       "    <tr>\n",
       "      <th>1</th>\n",
       "      <td>X360</td>\n",
       "      <td>971.42</td>\n",
       "    </tr>\n",
       "    <tr>\n",
       "      <th>2</th>\n",
       "      <td>PS3</td>\n",
       "      <td>939.65</td>\n",
       "    </tr>\n",
       "    <tr>\n",
       "      <th>3</th>\n",
       "      <td>Wii</td>\n",
       "      <td>907.51</td>\n",
       "    </tr>\n",
       "    <tr>\n",
       "      <th>4</th>\n",
       "      <td>DS</td>\n",
       "      <td>806.12</td>\n",
       "    </tr>\n",
       "  </tbody>\n",
       "</table>\n",
       "</div>"
      ],
      "text/plain": [
       "  platform  all_sales\n",
       "0      PS2    1255.77\n",
       "1     X360     971.42\n",
       "2      PS3     939.65\n",
       "3      Wii     907.51\n",
       "4       DS     806.12"
      ]
     },
     "execution_count": 443,
     "metadata": {},
     "output_type": "execute_result"
    }
   ],
   "source": [
    "sales_by_platform = df_gms.groupby('platform')['year_of_release'].sum().sort_values(ascending=False)\n",
    "sales_by_platform = df_gms.groupby('platform')['all_sales'].sum().sort_values(ascending=False)\n",
    "sales_by_platform = sales_by_platform.reset_index()\n",
    "sales_by_platform.head()"
   ]
  },
  {
   "cell_type": "markdown",
   "metadata": {},
   "source": [
    "Obtenemos una tabla que nos muestra las plataformas y la cantidad de ventas generadas en cada una de ellas.Para visualizarla mejor y decidir cual plataforma es la que tiene manyor cantidad de ventas generadas en mmillos de dolares, utilizaremos un grafico de barras."
   ]
  },
  {
   "cell_type": "code",
   "execution_count": 444,
   "metadata": {},
   "outputs": [
    {
     "data": {
      "image/png": "[encoded data removed]",
      "text/plain": [
       "<Figure size 1000x600 with 1 Axes>"
      ]
     },
     "metadata": {},
     "output_type": "display_data"
    }
   ],
   "source": [
    "plt.figure(figsize=(10, 6))\n",
    "plt.bar(sales_by_platform['platform'], sales_by_platform['all_sales'], color='yellow')\n",
    "plt.xlabel('Plataforma')\n",
    "plt.ylabel('Ventas globales (en millones)')\n",
    "plt.title('Ventas globales por plataforma')\n",
    "plt.xticks(rotation=90) \n",
    "plt.tight_layout()\n",
    "plt.show()"
   ]
  },
  {
   "cell_type": "markdown",
   "metadata": {},
   "source": [
    "Este grafico de barras nos indica que las plataformas de PS2  y X360 son las que en los ultimos años, han generado mayor cantidad de ventas, tomando en cunta que PS2 lleva una significativa delantera."
   ]
  },
  {
   "cell_type": "markdown",
   "metadata": {},
   "source": [
    "Acontinuasion vamos a  graficar la distribución de ventas de cada año y plataforma utilizando un gráfico de área apilada."
   ]
  },
  {
   "cell_type": "code",
   "execution_count": 445,
   "metadata": {},
   "outputs": [],
   "source": [
    "filtered_df = df_gms[(df_gms['year_of_release'] >= 2012) & (df_gms['year_of_release'] <= 2016)]\n",
    "sales_by_year_platform = filtered_df.groupby(['year_of_release', 'platform'])['all_sales'].sum().unstack(fill_value=0)"
   ]
  },
  {
   "cell_type": "code",
   "execution_count": 446,
   "metadata": {},
   "outputs": [
    {
     "data": {
      "image/png": "[encoded data removed]",
      "text/plain": [
       "<Figure size 1200x600 with 1 Axes>"
      ]
     },
     "metadata": {},
     "output_type": "display_data"
    }
   ],
   "source": [
    "sales_by_year_platform.plot(kind='area', stacked=True, figsize=(12, 6))\n",
    "plt.xlabel('Año de lanzamiento')\n",
    "plt.ylabel('Ventas globales (en millones)')\n",
    "plt.title('Distribución de ventas por año y plataforma')\n",
    "plt.legend(title='Plataforma', bbox_to_anchor=(1.05, 1), loc='upper left')\n",
    "plt.grid(True)\n",
    "plt.tight_layout()\n",
    "plt.show()"
   ]
  },
  {
   "cell_type": "markdown",
   "metadata": {},
   "source": [
    "Ahora tenemos un grafico que nos muestra una distribusion basada en datos de cada año, para buscar las plataformas que solian ser populares, pero que ya no tienen ventas. De esta manera podemos tener una observasion mas detallada, ya que al asignarle un color especifico a cada plataforma, podriamos darnos una idea de cuales serian las plataformas que ya no son populares al verificar la ausencia de el color al que la plataforma fue asignado en el grafico de area apilada."
   ]
  },
  {
   "cell_type": "markdown",
   "metadata": {},
   "source": [
    "***Ahora vamos a buscar las plataformas que solían ser populares pero que ahora no tienen ventas, para verificar cuánto tardan generalmente las nuevas plataformas en aparecer.***"
   ]
  },
  {
   "cell_type": "markdown",
   "metadata": {},
   "source": [
    "## .0 Elegir  varias plataformas potencialmente rentables"
   ]
  },
  {
   "cell_type": "code",
   "execution_count": 447,
   "metadata": {},
   "outputs": [
    {
     "data": {
      "text/html": [
       "<div>\n",
       "<style scoped>\n",
       "    .dataframe tbody tr th:only-of-type {\n",
       "        vertical-align: middle;\n",
       "    }\n",
       "\n",
       "    .dataframe tbody tr th {\n",
       "        vertical-align: top;\n",
       "    }\n",
       "\n",
       "    .dataframe thead th {\n",
       "        text-align: right;\n",
       "    }\n",
       "</style>\n",
       "<table border=\"1\" class=\"dataframe\">\n",
       "  <thead>\n",
       "    <tr style=\"text-align: right;\">\n",
       "      <th></th>\n",
       "      <th>platform</th>\n",
       "      <th>all_sales</th>\n",
       "    </tr>\n",
       "  </thead>\n",
       "  <tbody>\n",
       "    <tr>\n",
       "      <th>0</th>\n",
       "      <td>PCFX</td>\n",
       "      <td>0.03</td>\n",
       "    </tr>\n",
       "    <tr>\n",
       "      <th>1</th>\n",
       "      <td>GG</td>\n",
       "      <td>0.04</td>\n",
       "    </tr>\n",
       "    <tr>\n",
       "      <th>2</th>\n",
       "      <td>3DO</td>\n",
       "      <td>0.10</td>\n",
       "    </tr>\n",
       "    <tr>\n",
       "      <th>3</th>\n",
       "      <td>TG16</td>\n",
       "      <td>0.16</td>\n",
       "    </tr>\n",
       "    <tr>\n",
       "      <th>4</th>\n",
       "      <td>WS</td>\n",
       "      <td>1.42</td>\n",
       "    </tr>\n",
       "  </tbody>\n",
       "</table>\n",
       "</div>"
      ],
      "text/plain": [
       "  platform  all_sales\n",
       "0     PCFX       0.03\n",
       "1       GG       0.04\n",
       "2      3DO       0.10\n",
       "3     TG16       0.16\n",
       "4       WS       1.42"
      ]
     },
     "execution_count": 447,
     "metadata": {},
     "output_type": "execute_result"
    }
   ],
   "source": [
    "sales_by_platform_min = df_gms.groupby('platform')['all_sales'].sum().sort_values()\n",
    "sales_by_platform_min.reset_index().head()"
   ]
  },
  {
   "cell_type": "markdown",
   "metadata": {},
   "source": [
    "Obtenemos una tabla que nos indica cuales son las plataformas y su catidad de ventas ordenadas de menor a mayor. De esta manera, podriamos decir que observamos la lista de las 5 plataformas con menos ventas en nuestra tabla, y tambien podemos aplicar .tail() en lugar del .head(), para observar las plataformas con mayor cantidad de ventas."
   ]
  },
  {
   "cell_type": "markdown",
   "metadata": {},
   "source": [
    "Estas son las 5 plataformas con mayor cantidad de ventas generadas, sin embargo tambien es prudente realizar una agrupacion por año de lanzamineto para verificar el comportamiento de las plataformas"
   ]
  },
  {
   "cell_type": "code",
   "execution_count": 448,
   "metadata": {},
   "outputs": [
    {
     "data": {
      "text/html": [
       "<div>\n",
       "<style scoped>\n",
       "    .dataframe tbody tr th:only-of-type {\n",
       "        vertical-align: middle;\n",
       "    }\n",
       "\n",
       "    .dataframe tbody tr th {\n",
       "        vertical-align: top;\n",
       "    }\n",
       "\n",
       "    .dataframe thead th {\n",
       "        text-align: right;\n",
       "    }\n",
       "</style>\n",
       "<table border=\"1\" class=\"dataframe\">\n",
       "  <thead>\n",
       "    <tr style=\"text-align: right;\">\n",
       "      <th></th>\n",
       "      <th>platform</th>\n",
       "      <th>year_of_release</th>\n",
       "      <th>all_sales</th>\n",
       "    </tr>\n",
       "  </thead>\n",
       "  <tbody>\n",
       "    <tr>\n",
       "      <th>0</th>\n",
       "      <td>2600</td>\n",
       "      <td>1980.0</td>\n",
       "      <td>11.38</td>\n",
       "    </tr>\n",
       "    <tr>\n",
       "      <th>1</th>\n",
       "      <td>2600</td>\n",
       "      <td>1981.0</td>\n",
       "      <td>35.68</td>\n",
       "    </tr>\n",
       "    <tr>\n",
       "      <th>2</th>\n",
       "      <td>2600</td>\n",
       "      <td>1982.0</td>\n",
       "      <td>28.88</td>\n",
       "    </tr>\n",
       "    <tr>\n",
       "      <th>3</th>\n",
       "      <td>2600</td>\n",
       "      <td>1983.0</td>\n",
       "      <td>5.84</td>\n",
       "    </tr>\n",
       "    <tr>\n",
       "      <th>4</th>\n",
       "      <td>2600</td>\n",
       "      <td>1984.0</td>\n",
       "      <td>0.27</td>\n",
       "    </tr>\n",
       "    <tr>\n",
       "      <th>...</th>\n",
       "      <td>...</td>\n",
       "      <td>...</td>\n",
       "      <td>...</td>\n",
       "    </tr>\n",
       "    <tr>\n",
       "      <th>233</th>\n",
       "      <td>XB</td>\n",
       "      <td>2008.0</td>\n",
       "      <td>0.18</td>\n",
       "    </tr>\n",
       "    <tr>\n",
       "      <th>234</th>\n",
       "      <td>XOne</td>\n",
       "      <td>2013.0</td>\n",
       "      <td>18.96</td>\n",
       "    </tr>\n",
       "    <tr>\n",
       "      <th>235</th>\n",
       "      <td>XOne</td>\n",
       "      <td>2014.0</td>\n",
       "      <td>54.07</td>\n",
       "    </tr>\n",
       "    <tr>\n",
       "      <th>236</th>\n",
       "      <td>XOne</td>\n",
       "      <td>2015.0</td>\n",
       "      <td>60.14</td>\n",
       "    </tr>\n",
       "    <tr>\n",
       "      <th>237</th>\n",
       "      <td>XOne</td>\n",
       "      <td>2016.0</td>\n",
       "      <td>26.15</td>\n",
       "    </tr>\n",
       "  </tbody>\n",
       "</table>\n",
       "<p>238 rows × 3 columns</p>\n",
       "</div>"
      ],
      "text/plain": [
       "    platform  year_of_release  all_sales\n",
       "0       2600           1980.0      11.38\n",
       "1       2600           1981.0      35.68\n",
       "2       2600           1982.0      28.88\n",
       "3       2600           1983.0       5.84\n",
       "4       2600           1984.0       0.27\n",
       "..       ...              ...        ...\n",
       "233       XB           2008.0       0.18\n",
       "234     XOne           2013.0      18.96\n",
       "235     XOne           2014.0      54.07\n",
       "236     XOne           2015.0      60.14\n",
       "237     XOne           2016.0      26.15\n",
       "\n",
       "[238 rows x 3 columns]"
      ]
     },
     "execution_count": 448,
     "metadata": {},
     "output_type": "execute_result"
    }
   ],
   "source": [
    "platform_sales_by_year = df_gms.groupby(['platform', 'year_of_release'])['all_sales'].sum().reset_index()\n",
    "platform_sales_by_year"
   ]
  },
  {
   "cell_type": "markdown",
   "metadata": {},
   "source": [
    "De esta manera obtenemos una tabla que nos muestra las primras y ultimas filas de las plataforma, su año de lanzamiento y y las ventas generadas en cada uno de ellos."
   ]
  },
  {
   "cell_type": "markdown",
   "metadata": {},
   "source": [
    "__Gracias a esta tabla y  tambien a los graficos generados anteriormente, podemos concluir que una plataforma tarda de 5 a 9 años en desaparecer y que las nuevas plataformas aparacen de forma pediodica cada que se van descontinuando la plataformas debido a la ausencia de lanzaminetos de juego por año para cada una de ellas.__"
   ]
  },
  {
   "cell_type": "code",
   "execution_count": 449,
   "metadata": {},
   "outputs": [
    {
     "data": {
      "text/html": [
       "<div>\n",
       "<style scoped>\n",
       "    .dataframe tbody tr th:only-of-type {\n",
       "        vertical-align: middle;\n",
       "    }\n",
       "\n",
       "    .dataframe tbody tr th {\n",
       "        vertical-align: top;\n",
       "    }\n",
       "\n",
       "    .dataframe thead th {\n",
       "        text-align: right;\n",
       "    }\n",
       "</style>\n",
       "<table border=\"1\" class=\"dataframe\">\n",
       "  <thead>\n",
       "    <tr style=\"text-align: right;\">\n",
       "      <th></th>\n",
       "      <th>platform</th>\n",
       "      <th>all_sales</th>\n",
       "    </tr>\n",
       "  </thead>\n",
       "  <tbody>\n",
       "    <tr>\n",
       "      <th>26</th>\n",
       "      <td>DS</td>\n",
       "      <td>806.12</td>\n",
       "    </tr>\n",
       "    <tr>\n",
       "      <th>27</th>\n",
       "      <td>Wii</td>\n",
       "      <td>907.51</td>\n",
       "    </tr>\n",
       "    <tr>\n",
       "      <th>28</th>\n",
       "      <td>PS3</td>\n",
       "      <td>939.65</td>\n",
       "    </tr>\n",
       "    <tr>\n",
       "      <th>29</th>\n",
       "      <td>X360</td>\n",
       "      <td>971.42</td>\n",
       "    </tr>\n",
       "    <tr>\n",
       "      <th>30</th>\n",
       "      <td>PS2</td>\n",
       "      <td>1255.77</td>\n",
       "    </tr>\n",
       "  </tbody>\n",
       "</table>\n",
       "</div>"
      ],
      "text/plain": [
       "   platform  all_sales\n",
       "26       DS     806.12\n",
       "27      Wii     907.51\n",
       "28      PS3     939.65\n",
       "29     X360     971.42\n",
       "30      PS2    1255.77"
      ]
     },
     "execution_count": 449,
     "metadata": {},
     "output_type": "execute_result"
    }
   ],
   "source": [
    "sales_by_platform_min.reset_index().tail()"
   ]
  },
  {
   "cell_type": "markdown",
   "metadata": {},
   "source": [
    "Estas son las 5 plataformas que han generado mayor cantiad de ventas en los ultimoos años. Vamos a tomar los años de lanzamineto de juegos en estas plataformas para generar un modelo para el año proximo, omitiendo valores ausentes y centrando nuestros analisis en los datos especificos que tenemos."
   ]
  },
  {
   "cell_type": "code",
   "execution_count": 450,
   "metadata": {},
   "outputs": [
    {
     "data": {
      "text/html": [
       "<div>\n",
       "<style scoped>\n",
       "    .dataframe tbody tr th:only-of-type {\n",
       "        vertical-align: middle;\n",
       "    }\n",
       "\n",
       "    .dataframe tbody tr th {\n",
       "        vertical-align: top;\n",
       "    }\n",
       "\n",
       "    .dataframe thead th {\n",
       "        text-align: right;\n",
       "    }\n",
       "</style>\n",
       "<table border=\"1\" class=\"dataframe\">\n",
       "  <thead>\n",
       "    <tr style=\"text-align: right;\">\n",
       "      <th></th>\n",
       "      <th>all_sales</th>\n",
       "      <th>year_of_release</th>\n",
       "      <th>platform</th>\n",
       "    </tr>\n",
       "  </thead>\n",
       "  <tbody>\n",
       "    <tr>\n",
       "      <th>0</th>\n",
       "      <td>1.46</td>\n",
       "      <td>1981.0</td>\n",
       "      <td>2600</td>\n",
       "    </tr>\n",
       "    <tr>\n",
       "      <th>1</th>\n",
       "      <td>0.45</td>\n",
       "      <td>1985.0</td>\n",
       "      <td>2600</td>\n",
       "    </tr>\n",
       "    <tr>\n",
       "      <th>2</th>\n",
       "      <td>1.31</td>\n",
       "      <td>1983.0</td>\n",
       "      <td>2600</td>\n",
       "    </tr>\n",
       "    <tr>\n",
       "      <th>3</th>\n",
       "      <td>0.25</td>\n",
       "      <td>1987.0</td>\n",
       "      <td>2600</td>\n",
       "    </tr>\n",
       "    <tr>\n",
       "      <th>4</th>\n",
       "      <td>0.78</td>\n",
       "      <td>1983.0</td>\n",
       "      <td>2600</td>\n",
       "    </tr>\n",
       "  </tbody>\n",
       "</table>\n",
       "</div>"
      ],
      "text/plain": [
       "   all_sales  year_of_release platform\n",
       "0       1.46           1981.0     2600\n",
       "1       0.45           1985.0     2600\n",
       "2       1.31           1983.0     2600\n",
       "3       0.25           1987.0     2600\n",
       "4       0.78           1983.0     2600"
      ]
     },
     "execution_count": 450,
     "metadata": {},
     "output_type": "execute_result"
    }
   ],
   "source": [
    "df_gms_e = df_gms[df_gms['year_of_release'] >= 2012]\n",
    "sales_by_platform_mx = df_gms.groupby(['all_sales', 'year_of_release'])['platform'].sum().sort_values()\n",
    "sales_by_platform_mx.reset_index().head()"
   ]
  },
  {
   "cell_type": "markdown",
   "metadata": {},
   "source": [
    "Especificamos nuestra lista en plataformas que tuvienron juegos lanzados desde el año 2014,para evaluar su comportamiento, y de esta manera lograr una prediccion mas exacta para el iguiente año."
   ]
  },
  {
   "cell_type": "code",
   "execution_count": 451,
   "metadata": {},
   "outputs": [
    {
     "data": {
      "image/png": "[encoded data removed]",
      "text/plain": [
       "<Figure size 1200x600 with 1 Axes>"
      ]
     },
     "metadata": {},
     "output_type": "display_data"
    }
   ],
   "source": [
    "sales_by_platform_mx = df_gms_e.groupby(['platform', 'year_of_release'])['all_sales'].sum().reset_index()\n",
    "plt.figure(figsize=(12, 6))\n",
    "for platform in sales_by_platform_mx['platform'].unique():\n",
    "    platform_data = sales_by_platform_mx[sales_by_platform_mx['platform'] == platform]\n",
    "    plt.bar(platform_data['year_of_release'], platform_data['all_sales'], label=platform)\n",
    "\n",
    "plt.xlabel('Año de Lanzamiento')\n",
    "plt.ylabel('Ventas Globales (en millones)')\n",
    "plt.title('Ventas Globales por Plataforma y Año de Lanzamiento')\n",
    "plt.legend()\n",
    "plt.xticks(rotation=45)\n",
    "plt.tight_layout()\n",
    "plt.show()"
   ]
  },
  {
   "cell_type": "markdown",
   "metadata": {},
   "source": [
    "Determinamos de esta manera que las plataformas potencialmente mas rentables, son las de **'XOne'** y **'PS4'**, ya que en los ultimos años han tenido y se han mantenido en la posicion mas alta de ventas generadas, dando una mayor rentabilidad  la plataforma  de **'PS4'** que lidera el ranking de ventas en los ultimos 3 años importantes."
   ]
  },
  {
   "cell_type": "markdown",
   "metadata": {},
   "source": [
    "Tambien podemos observar un aumento de ventas para la plataforma de **'XOne'** en el año 2015, y un aumneto aun mayor para la platoforma **'PS4'** en ese mismo año, siendo uno de los mas rentables de los ultimos 4 años. Sin embargo en el año siguinte vemos una reduccion significativa de volumen de ventas para ambas plataformas pero mayormente dentro de la plataforma **'XOne'**"
   ]
  },
  {
   "cell_type": "markdown",
   "metadata": {},
   "source": [
    "###   Generar un diagrama de caja."
   ]
  },
  {
   "cell_type": "markdown",
   "metadata": {},
   "source": [
    "***Ahora generaremos un diagrama de caja para las ventas globales de todos los juegos, desglosados por plataforma y veridicar si son significativas las diferencias en las ventas como   las ventas promedio en varias plataformas***"
   ]
  },
  {
   "cell_type": "code",
   "execution_count": 452,
   "metadata": {},
   "outputs": [],
   "source": [
    "platform_medians = df_gms.groupby('platform')['all_sales'].median().sort_values()\n",
    "sorted_platforms = platform_medians.index"
   ]
  },
  {
   "cell_type": "code",
   "execution_count": 453,
   "metadata": {},
   "outputs": [
    {
     "data": {
      "image/png": "[encoded data removed]",
      "text/plain": [
       "<Figure size 1200x800 with 1 Axes>"
      ]
     },
     "metadata": {},
     "output_type": "display_data"
    }
   ],
   "source": [
    "plt.figure(figsize=(12, 8))\n",
    "plt.boxplot([df_gms[df_gms['platform'] == platform]['all_sales']\n",
    "             for platform in df_gms['platform'].unique()],\n",
    "            labels=df_gms['platform'].unique())\n",
    "\n",
    "plt.xlabel('Plataforma')\n",
    "plt.ylabel('Ventas globales (en millones)')\n",
    "plt.title('Diagrama de Caja de Ventas Globales por Plataforma')\n",
    "plt.xticks(rotation=90)\n",
    "plt.grid(True)\n",
    "plt.ylim(0, 5)\n",
    "plt.show()"
   ]
  },
  {
   "cell_type": "markdown",
   "metadata": {},
   "source": [
    "Obtenemos un diagrama de caja ordenado y listo para su analisis y verificar que tan oprobable es que nuestros datos se sesguen. Y vamos a describirlo mejor."
   ]
  },
  {
   "cell_type": "markdown",
   "metadata": {},
   "source": [
    "El sigiente diagrama muestra las vnetas gobales de todos los juegos, desglosados por plataforma.Cada caja representa la distribución de las ventas para una plataforma específica. Las líneas dentro de las cajas representan la mediana, los bordes de las cajas representan el primer y tercer cuartil, y los \"bigotes\" representan la variabilidad fuera de los cuartiles."
   ]
  },
  {
   "cell_type": "markdown",
   "metadata": {},
   "source": [
    "Derterminamos de esta manera que dentro de  versiones dieferentes de la misma plataforma, como **'PS'**,**'WI'**,o **'Xbox** no hay una diferencia significativa en cuanto su volumen de ventas, sin embargdo donde si existen diferencias significativas es en plataformas diferentes, siendo **'GEN'**, **'NES** y **'GB'** las mas alejadas del promedio. Y  no tienen una relacion especificada"
   ]
  },
  {
   "cell_type": "markdown",
   "metadata": {},
   "source": [
    "En cunato a las ventas promedio en cada plataforma, podriamos decir que se mantiene a la par dentro de las versiones mas actualizadas de cada plataforma, pero ocurre una variacion denytro del promedio en plataformas difefrentes sin relacion alguna, lo que causa que de 3 a 4 años cada plataforma qque no lance una version mas actualizada de la misma, se ira quedadndo atras y no recibira ningun lanzamineto de juegos en el futuro."
   ]
  },
  {
   "cell_type": "markdown",
   "metadata": {},
   "source": [
    "### Analizando el impacto del puntaje de cada usuario para una plataforma muy rentable."
   ]
  },
  {
   "cell_type": "markdown",
   "metadata": {},
   "source": [
    "Para mirar cómo las reseñas de usuarios y profesionales afectan las ventas las plataformas mas populares, tomaremos encuneta la plataforma **'PS'** y veremos como reaccionan los usuarios a esta plataforma."
   ]
  },
  {
   "cell_type": "code",
   "execution_count": 454,
   "metadata": {},
   "outputs": [
    {
     "data": {
      "text/plain": [
       "Index(['name', 'platform', 'year_of_release', 'genre', 'na_sales', 'eu_sales',\n",
       "       'jp_sales', 'other_sales', 'critic_score', 'user_score', 'rating',\n",
       "       'all_sales'],\n",
       "      dtype='object')"
      ]
     },
     "execution_count": 454,
     "metadata": {},
     "output_type": "execute_result"
    }
   ],
   "source": [
    "df_gms.columns"
   ]
  },
  {
   "cell_type": "code",
   "execution_count": 455,
   "metadata": {},
   "outputs": [
    {
     "data": {
      "text/html": [
       "<div>\n",
       "<style scoped>\n",
       "    .dataframe tbody tr th:only-of-type {\n",
       "        vertical-align: middle;\n",
       "    }\n",
       "\n",
       "    .dataframe tbody tr th {\n",
       "        vertical-align: top;\n",
       "    }\n",
       "\n",
       "    .dataframe thead th {\n",
       "        text-align: right;\n",
       "    }\n",
       "</style>\n",
       "<table border=\"1\" class=\"dataframe\">\n",
       "  <thead>\n",
       "    <tr style=\"text-align: right;\">\n",
       "      <th></th>\n",
       "      <th>index</th>\n",
       "      <th>user_score</th>\n",
       "      <th>critic_score</th>\n",
       "      <th>all_sales</th>\n",
       "    </tr>\n",
       "  </thead>\n",
       "  <tbody>\n",
       "    <tr>\n",
       "      <th>0</th>\n",
       "      <td>52</td>\n",
       "      <td>8.7</td>\n",
       "      <td>96.0</td>\n",
       "      <td>10.95</td>\n",
       "    </tr>\n",
       "    <tr>\n",
       "      <th>1</th>\n",
       "      <td>65</td>\n",
       "      <td>9.2</td>\n",
       "      <td>92.0</td>\n",
       "      <td>9.72</td>\n",
       "    </tr>\n",
       "    <tr>\n",
       "      <th>2</th>\n",
       "      <td>67</td>\n",
       "      <td>9</td>\n",
       "      <td>93.0</td>\n",
       "      <td>9.49</td>\n",
       "    </tr>\n",
       "    <tr>\n",
       "      <th>3</th>\n",
       "      <td>88</td>\n",
       "      <td>8.6</td>\n",
       "      <td>90.0</td>\n",
       "      <td>7.86</td>\n",
       "    </tr>\n",
       "    <tr>\n",
       "      <th>4</th>\n",
       "      <td>95</td>\n",
       "      <td>NaN</td>\n",
       "      <td>NaN</td>\n",
       "      <td>7.57</td>\n",
       "    </tr>\n",
       "  </tbody>\n",
       "</table>\n",
       "</div>"
      ],
      "text/plain": [
       "   index user_score  critic_score  all_sales\n",
       "0     52        8.7          96.0      10.95\n",
       "1     65        9.2          92.0       9.72\n",
       "2     67          9          93.0       9.49\n",
       "3     88        8.6          90.0       7.86\n",
       "4     95        NaN           NaN       7.57"
      ]
     },
     "execution_count": 455,
     "metadata": {},
     "output_type": "execute_result"
    }
   ],
   "source": [
    "ps_df = df_gms[df_gms['platform'] == 'PS'][['user_score', 'critic_score', 'all_sales']]\n",
    "ps_df.reset_index().head()"
   ]
  },
  {
   "cell_type": "markdown",
   "metadata": {},
   "source": [
    "Al filtrar el DataFrame para la plataforma **'PS'** notamos la precencia de ciertos valores asuntes, los cuales podria ser prudente eliminar y visualizar los datos en un grafico de dispersion"
   ]
  },
  {
   "cell_type": "code",
   "execution_count": 456,
   "metadata": {},
   "outputs": [
    {
     "data": {
      "text/html": [
       "<div>\n",
       "<style scoped>\n",
       "    .dataframe tbody tr th:only-of-type {\n",
       "        vertical-align: middle;\n",
       "    }\n",
       "\n",
       "    .dataframe tbody tr th {\n",
       "        vertical-align: top;\n",
       "    }\n",
       "\n",
       "    .dataframe thead th {\n",
       "        text-align: right;\n",
       "    }\n",
       "</style>\n",
       "<table border=\"1\" class=\"dataframe\">\n",
       "  <thead>\n",
       "    <tr style=\"text-align: right;\">\n",
       "      <th></th>\n",
       "      <th>index</th>\n",
       "      <th>user_score</th>\n",
       "      <th>critic_score</th>\n",
       "      <th>all_sales</th>\n",
       "    </tr>\n",
       "  </thead>\n",
       "  <tbody>\n",
       "    <tr>\n",
       "      <th>0</th>\n",
       "      <td>52</td>\n",
       "      <td>8.7</td>\n",
       "      <td>96.0</td>\n",
       "      <td>10.95</td>\n",
       "    </tr>\n",
       "    <tr>\n",
       "      <th>1</th>\n",
       "      <td>65</td>\n",
       "      <td>9.2</td>\n",
       "      <td>92.0</td>\n",
       "      <td>9.72</td>\n",
       "    </tr>\n",
       "    <tr>\n",
       "      <th>2</th>\n",
       "      <td>67</td>\n",
       "      <td>9</td>\n",
       "      <td>93.0</td>\n",
       "      <td>9.49</td>\n",
       "    </tr>\n",
       "    <tr>\n",
       "      <th>3</th>\n",
       "      <td>88</td>\n",
       "      <td>8.6</td>\n",
       "      <td>90.0</td>\n",
       "      <td>7.86</td>\n",
       "    </tr>\n",
       "    <tr>\n",
       "      <th>4</th>\n",
       "      <td>106</td>\n",
       "      <td>9.1</td>\n",
       "      <td>96.0</td>\n",
       "      <td>7.18</td>\n",
       "    </tr>\n",
       "  </tbody>\n",
       "</table>\n",
       "</div>"
      ],
      "text/plain": [
       "   index user_score  critic_score  all_sales\n",
       "0     52        8.7          96.0      10.95\n",
       "1     65        9.2          92.0       9.72\n",
       "2     67          9          93.0       9.49\n",
       "3     88        8.6          90.0       7.86\n",
       "4    106        9.1          96.0       7.18"
      ]
     },
     "execution_count": 456,
     "metadata": {},
     "output_type": "execute_result"
    }
   ],
   "source": [
    "ps_df = df_gms[df_gms['platform'] == 'PS'][['user_score', 'critic_score', 'all_sales']].dropna()\n",
    "ps_df.reset_index().head()"
   ]
  },
  {
   "cell_type": "markdown",
   "metadata": {},
   "source": [
    "A partir de este Dataframe, que no tiene valores ausentes, podremos generar nuestro grafico de dispersion y de esta manera calcular las correlaciones entre cada tipo de reseña y las ventas globales, para esta plataforma en especifico."
   ]
  },
  {
   "cell_type": "markdown",
   "metadata": {},
   "source": [
    "###   Calcular la correlación entre las reseñas y las ventas."
   ]
  },
  {
   "cell_type": "code",
   "execution_count": 457,
   "metadata": {},
   "outputs": [],
   "source": [
    "ps_df['user_score'] = pd.to_numeric(ps_df['user_score'], errors='coerce')\n",
    "ps_df['critic_score'] = pd.to_numeric(ps_df['critic_score'], errors='coerce')"
   ]
  },
  {
   "cell_type": "markdown",
   "metadata": {},
   "source": [
    "Tansfromamos las columnas a comparar a tipo numerico, solo  en esta comparacion para determinar con exactitud su correlacion en cuanto a las ventas de los juegos para la plataform a **'PS'**."
   ]
  },
  {
   "cell_type": "code",
   "execution_count": 458,
   "metadata": {},
   "outputs": [
    {
     "name": "stdout",
     "output_type": "stream",
     "text": [
      "Correlación entre reseñas de usuarios y ventas globales en PS: 0.29848684510631895\n",
      "Correlación entre reseñas de críticos y ventas globales en PS: 0.4286006093949603\n"
     ]
    },
    {
     "data": {
      "image/png": "[encoded data removed]",
      "text/plain": [
       "<Figure size 800x600 with 1 Axes>"
      ]
     },
     "metadata": {},
     "output_type": "display_data"
    }
   ],
   "source": [
    "plt.figure(figsize=(8, 6))\n",
    "plt.scatter(ps_df['user_score'], ps_df['all_sales'], color='blue', label='Usuario', alpha=0.5)\n",
    "plt.scatter(ps_df['critic_score'], ps_df['all_sales'], color='red', label='Crítico', alpha=0.5)\n",
    "plt.title('Gráfico de dispersión: Reseñas de Usuarios y Críticos vs Ventas Globales (Plataforma PS)')\n",
    "plt.xlabel('Puntuación')\n",
    "plt.ylabel('Ventas Globales (en millones)')\n",
    "plt.legend()\n",
    "plt.grid(True)\n",
    "user_correlation = ps_df['user_score'].corr(ps_df['all_sales'])\n",
    "critic_correlation = ps_df['critic_score'].corr(ps_df['all_sales'])\n",
    "print(\"Correlación entre reseñas de usuarios y ventas globales en PS:\", user_correlation)\n",
    "print(\"Correlación entre reseñas de críticos y ventas globales en PS:\", critic_correlation)\n",
    "\n",
    "plt.show()"
   ]
  },
  {
   "cell_type": "markdown",
   "metadata": {},
   "source": [
    "Determinamos entonces, despues de esta visualizasion, que las reseñas de los criticos,afectan mas las ventas de una plataforma popular que las reseñas de los usuarios, sin embargo esta cunclusion es aceptada para este grafico de dispersion dentro de la plataforma **'PS'**, por lo que tambien pude ser prudente comparar con otras plataformas para llegar a una colclusion mas exacta."
   ]
  },
  {
   "cell_type": "markdown",
   "metadata": {},
   "source": [
    "A continuacion los mas sencillo que puedo hacer para realizar esta comparacion especificada, es generar un dataframe, que contengas las plataformas con la mayor cantidad de ventas en los ultimos años considerados que son **'PS4'**, **'X360'** y **'XOne'**, para que nos ayude a ver que jeugos fueron los mas populares para estas plataformas."
   ]
  },
  {
   "cell_type": "code",
   "execution_count": 459,
   "metadata": {},
   "outputs": [],
   "source": [
    "plataformas = ['PS4', 'X360', 'XOne']\n",
    "juegos_populares = pd.DataFrame()\n",
    "\n",
    "for plataforma in plataformas:\n",
    "    juegos_plataforma = df_gms[df_gms['platform'] == plataforma].nlargest(5, 'all_sales')\n",
    "    \n",
    "    \n",
    "    juegos_populares = pd.concat([juegos_populares, juegos_plataforma])\n",
    "\n",
    "juegos_populares.reset_index(drop=True, inplace=True)"
   ]
  },
  {
   "cell_type": "code",
   "execution_count": 460,
   "metadata": {},
   "outputs": [
    {
     "data": {
      "text/html": [
       "<div>\n",
       "<style scoped>\n",
       "    .dataframe tbody tr th:only-of-type {\n",
       "        vertical-align: middle;\n",
       "    }\n",
       "\n",
       "    .dataframe tbody tr th {\n",
       "        vertical-align: top;\n",
       "    }\n",
       "\n",
       "    .dataframe thead th {\n",
       "        text-align: right;\n",
       "    }\n",
       "</style>\n",
       "<table border=\"1\" class=\"dataframe\">\n",
       "  <thead>\n",
       "    <tr style=\"text-align: right;\">\n",
       "      <th></th>\n",
       "      <th>index</th>\n",
       "      <th>name</th>\n",
       "      <th>platform</th>\n",
       "      <th>year_of_release</th>\n",
       "      <th>genre</th>\n",
       "      <th>na_sales</th>\n",
       "      <th>eu_sales</th>\n",
       "      <th>jp_sales</th>\n",
       "      <th>other_sales</th>\n",
       "      <th>critic_score</th>\n",
       "      <th>user_score</th>\n",
       "      <th>rating</th>\n",
       "      <th>all_sales</th>\n",
       "    </tr>\n",
       "  </thead>\n",
       "  <tbody>\n",
       "    <tr>\n",
       "      <th>0</th>\n",
       "      <td>0</td>\n",
       "      <td>Call of Duty: Black Ops 3</td>\n",
       "      <td>PS4</td>\n",
       "      <td>2015.0</td>\n",
       "      <td>Shooter</td>\n",
       "      <td>6.03</td>\n",
       "      <td>5.86</td>\n",
       "      <td>0.36</td>\n",
       "      <td>2.38</td>\n",
       "      <td>NaN</td>\n",
       "      <td>NaN</td>\n",
       "      <td>NaN</td>\n",
       "      <td>14.63</td>\n",
       "    </tr>\n",
       "    <tr>\n",
       "      <th>1</th>\n",
       "      <td>1</td>\n",
       "      <td>Grand Theft Auto V</td>\n",
       "      <td>PS4</td>\n",
       "      <td>2014.0</td>\n",
       "      <td>Action</td>\n",
       "      <td>3.96</td>\n",
       "      <td>6.31</td>\n",
       "      <td>0.38</td>\n",
       "      <td>1.97</td>\n",
       "      <td>97.0</td>\n",
       "      <td>8.3</td>\n",
       "      <td>M</td>\n",
       "      <td>12.62</td>\n",
       "    </tr>\n",
       "    <tr>\n",
       "      <th>2</th>\n",
       "      <td>2</td>\n",
       "      <td>FIFA 16</td>\n",
       "      <td>PS4</td>\n",
       "      <td>2015.0</td>\n",
       "      <td>Sports</td>\n",
       "      <td>1.12</td>\n",
       "      <td>6.12</td>\n",
       "      <td>0.06</td>\n",
       "      <td>1.28</td>\n",
       "      <td>82.0</td>\n",
       "      <td>4.3</td>\n",
       "      <td>E</td>\n",
       "      <td>8.58</td>\n",
       "    </tr>\n",
       "    <tr>\n",
       "      <th>3</th>\n",
       "      <td>3</td>\n",
       "      <td>Star Wars Battlefront (2015)</td>\n",
       "      <td>PS4</td>\n",
       "      <td>2015.0</td>\n",
       "      <td>Shooter</td>\n",
       "      <td>2.99</td>\n",
       "      <td>3.49</td>\n",
       "      <td>0.22</td>\n",
       "      <td>1.28</td>\n",
       "      <td>NaN</td>\n",
       "      <td>NaN</td>\n",
       "      <td>NaN</td>\n",
       "      <td>7.98</td>\n",
       "    </tr>\n",
       "    <tr>\n",
       "      <th>4</th>\n",
       "      <td>4</td>\n",
       "      <td>Call of Duty: Advanced Warfare</td>\n",
       "      <td>PS4</td>\n",
       "      <td>2014.0</td>\n",
       "      <td>Shooter</td>\n",
       "      <td>2.81</td>\n",
       "      <td>3.48</td>\n",
       "      <td>0.14</td>\n",
       "      <td>1.23</td>\n",
       "      <td>83.0</td>\n",
       "      <td>5.7</td>\n",
       "      <td>M</td>\n",
       "      <td>7.66</td>\n",
       "    </tr>\n",
       "    <tr>\n",
       "      <th>5</th>\n",
       "      <td>5</td>\n",
       "      <td>Kinect Adventures!</td>\n",
       "      <td>X360</td>\n",
       "      <td>2010.0</td>\n",
       "      <td>Misc</td>\n",
       "      <td>15.00</td>\n",
       "      <td>4.89</td>\n",
       "      <td>0.24</td>\n",
       "      <td>1.69</td>\n",
       "      <td>61.0</td>\n",
       "      <td>6.3</td>\n",
       "      <td>E</td>\n",
       "      <td>21.82</td>\n",
       "    </tr>\n",
       "    <tr>\n",
       "      <th>6</th>\n",
       "      <td>6</td>\n",
       "      <td>Grand Theft Auto V</td>\n",
       "      <td>X360</td>\n",
       "      <td>2013.0</td>\n",
       "      <td>Action</td>\n",
       "      <td>9.66</td>\n",
       "      <td>5.14</td>\n",
       "      <td>0.06</td>\n",
       "      <td>1.41</td>\n",
       "      <td>97.0</td>\n",
       "      <td>8.1</td>\n",
       "      <td>M</td>\n",
       "      <td>16.27</td>\n",
       "    </tr>\n",
       "    <tr>\n",
       "      <th>7</th>\n",
       "      <td>7</td>\n",
       "      <td>Call of Duty: Modern Warfare 3</td>\n",
       "      <td>X360</td>\n",
       "      <td>2011.0</td>\n",
       "      <td>Shooter</td>\n",
       "      <td>9.04</td>\n",
       "      <td>4.24</td>\n",
       "      <td>0.13</td>\n",
       "      <td>1.32</td>\n",
       "      <td>88.0</td>\n",
       "      <td>3.4</td>\n",
       "      <td>M</td>\n",
       "      <td>14.73</td>\n",
       "    </tr>\n",
       "    <tr>\n",
       "      <th>8</th>\n",
       "      <td>8</td>\n",
       "      <td>Call of Duty: Black Ops</td>\n",
       "      <td>X360</td>\n",
       "      <td>2010.0</td>\n",
       "      <td>Shooter</td>\n",
       "      <td>9.70</td>\n",
       "      <td>3.68</td>\n",
       "      <td>0.11</td>\n",
       "      <td>1.13</td>\n",
       "      <td>87.0</td>\n",
       "      <td>6.3</td>\n",
       "      <td>M</td>\n",
       "      <td>14.62</td>\n",
       "    </tr>\n",
       "  </tbody>\n",
       "</table>\n",
       "</div>"
      ],
      "text/plain": [
       "   index                            name platform  year_of_release    genre  \\\n",
       "0      0       Call of Duty: Black Ops 3      PS4           2015.0  Shooter   \n",
       "1      1              Grand Theft Auto V      PS4           2014.0   Action   \n",
       "2      2                         FIFA 16      PS4           2015.0   Sports   \n",
       "3      3    Star Wars Battlefront (2015)      PS4           2015.0  Shooter   \n",
       "4      4  Call of Duty: Advanced Warfare      PS4           2014.0  Shooter   \n",
       "5      5              Kinect Adventures!     X360           2010.0     Misc   \n",
       "6      6              Grand Theft Auto V     X360           2013.0   Action   \n",
       "7      7  Call of Duty: Modern Warfare 3     X360           2011.0  Shooter   \n",
       "8      8         Call of Duty: Black Ops     X360           2010.0  Shooter   \n",
       "\n",
       "   na_sales  eu_sales  jp_sales  other_sales  critic_score user_score rating  \\\n",
       "0      6.03      5.86      0.36         2.38           NaN        NaN    NaN   \n",
       "1      3.96      6.31      0.38         1.97          97.0        8.3      M   \n",
       "2      1.12      6.12      0.06         1.28          82.0        4.3      E   \n",
       "3      2.99      3.49      0.22         1.28           NaN        NaN    NaN   \n",
       "4      2.81      3.48      0.14         1.23          83.0        5.7      M   \n",
       "5     15.00      4.89      0.24         1.69          61.0        6.3      E   \n",
       "6      9.66      5.14      0.06         1.41          97.0        8.1      M   \n",
       "7      9.04      4.24      0.13         1.32          88.0        3.4      M   \n",
       "8      9.70      3.68      0.11         1.13          87.0        6.3      M   \n",
       "\n",
       "   all_sales  \n",
       "0      14.63  \n",
       "1      12.62  \n",
       "2       8.58  \n",
       "3       7.98  \n",
       "4       7.66  \n",
       "5      21.82  \n",
       "6      16.27  \n",
       "7      14.73  \n",
       "8      14.62  "
      ]
     },
     "execution_count": 460,
     "metadata": {},
     "output_type": "execute_result"
    }
   ],
   "source": [
    "juegos_populares.reset_index().head(9)"
   ]
  },
  {
   "cell_type": "markdown",
   "metadata": {},
   "source": [
    "De esta forma sleccionamos las plataformas mas populares y comparar las ventas de distintos juegos en otras plataformas."
   ]
  },
  {
   "cell_type": "markdown",
   "metadata": {},
   "source": [
    "De esta manera generamos un dataframe ,que contiene con tiene los juegos mas populares en las plataformas que han tenido mayores ventas en los ultimos años, para obetner los juegos de mayores ventas en cada una de ellas."
   ]
  },
  {
   "cell_type": "markdown",
   "metadata": {},
   "source": [
    "Ahora vamos a compara estos juegos con otras plataformas y sus respectivas ventas, para verificar si de manera general podriamos asumir que tienen mayor populariad y por ende mayor nivel de ventas en plataformas diferentes."
   ]
  },
  {
   "cell_type": "code",
   "execution_count": 461,
   "metadata": {},
   "outputs": [
    {
     "data": {
      "text/html": [
       "<div>\n",
       "<style scoped>\n",
       "    .dataframe tbody tr th:only-of-type {\n",
       "        vertical-align: middle;\n",
       "    }\n",
       "\n",
       "    .dataframe tbody tr th {\n",
       "        vertical-align: top;\n",
       "    }\n",
       "\n",
       "    .dataframe thead th {\n",
       "        text-align: right;\n",
       "    }\n",
       "</style>\n",
       "<table border=\"1\" class=\"dataframe\">\n",
       "  <thead>\n",
       "    <tr style=\"text-align: right;\">\n",
       "      <th></th>\n",
       "      <th>index</th>\n",
       "      <th>name</th>\n",
       "      <th>platform</th>\n",
       "      <th>all_sales</th>\n",
       "    </tr>\n",
       "  </thead>\n",
       "  <tbody>\n",
       "    <tr>\n",
       "      <th>0</th>\n",
       "      <td>16</td>\n",
       "      <td>Grand Theft Auto V</td>\n",
       "      <td>PS3</td>\n",
       "      <td>21.05</td>\n",
       "    </tr>\n",
       "    <tr>\n",
       "      <th>1</th>\n",
       "      <td>23</td>\n",
       "      <td>Grand Theft Auto V</td>\n",
       "      <td>X360</td>\n",
       "      <td>16.27</td>\n",
       "    </tr>\n",
       "    <tr>\n",
       "      <th>2</th>\n",
       "      <td>31</td>\n",
       "      <td>Call of Duty: Black Ops 3</td>\n",
       "      <td>PS4</td>\n",
       "      <td>14.63</td>\n",
       "    </tr>\n",
       "    <tr>\n",
       "      <th>3</th>\n",
       "      <td>42</td>\n",
       "      <td>Grand Theft Auto V</td>\n",
       "      <td>PS4</td>\n",
       "      <td>12.62</td>\n",
       "    </tr>\n",
       "    <tr>\n",
       "      <th>4</th>\n",
       "      <td>99</td>\n",
       "      <td>Call of Duty: Black Ops 3</td>\n",
       "      <td>XOne</td>\n",
       "      <td>7.39</td>\n",
       "    </tr>\n",
       "    <tr>\n",
       "      <th>5</th>\n",
       "      <td>165</td>\n",
       "      <td>Grand Theft Auto V</td>\n",
       "      <td>XOne</td>\n",
       "      <td>5.47</td>\n",
       "    </tr>\n",
       "    <tr>\n",
       "      <th>6</th>\n",
       "      <td>1049</td>\n",
       "      <td>Call of Duty: Black Ops 3</td>\n",
       "      <td>X360</td>\n",
       "      <td>1.70</td>\n",
       "    </tr>\n",
       "    <tr>\n",
       "      <th>7</th>\n",
       "      <td>1062</td>\n",
       "      <td>Call of Duty: Black Ops 3</td>\n",
       "      <td>PS3</td>\n",
       "      <td>1.69</td>\n",
       "    </tr>\n",
       "    <tr>\n",
       "      <th>8</th>\n",
       "      <td>1730</td>\n",
       "      <td>Grand Theft Auto V</td>\n",
       "      <td>PC</td>\n",
       "      <td>1.17</td>\n",
       "    </tr>\n",
       "    <tr>\n",
       "      <th>9</th>\n",
       "      <td>6463</td>\n",
       "      <td>Call of Duty: Black Ops 3</td>\n",
       "      <td>PC</td>\n",
       "      <td>0.26</td>\n",
       "    </tr>\n",
       "  </tbody>\n",
       "</table>\n",
       "</div>"
      ],
      "text/plain": [
       "   index                       name platform  all_sales\n",
       "0     16         Grand Theft Auto V      PS3      21.05\n",
       "1     23         Grand Theft Auto V     X360      16.27\n",
       "2     31  Call of Duty: Black Ops 3      PS4      14.63\n",
       "3     42         Grand Theft Auto V      PS4      12.62\n",
       "4     99  Call of Duty: Black Ops 3     XOne       7.39\n",
       "5    165         Grand Theft Auto V     XOne       5.47\n",
       "6   1049  Call of Duty: Black Ops 3     X360       1.70\n",
       "7   1062  Call of Duty: Black Ops 3      PS3       1.69\n",
       "8   1730         Grand Theft Auto V       PC       1.17\n",
       "9   6463  Call of Duty: Black Ops 3       PC       0.26"
      ]
     },
     "execution_count": 461,
     "metadata": {},
     "output_type": "execute_result"
    }
   ],
   "source": [
    "juegos_interes = ['Grand Theft Auto V', 'Call of Duty: Black Ops 3', 'FIFA 18']\n",
    "\n",
    "df_interes = df_gms[df_gms['name'].isin(juegos_interes)]\n",
    "\n",
    "ventas_juegos_interes = df_interes[['name', 'platform', 'all_sales']]\n",
    "ventas_juegos_interes.reset_index()"
   ]
  },
  {
   "cell_type": "markdown",
   "metadata": {},
   "source": [
    "Determinamos de esta forma si bien existe juegos con mayor cantidad de ventas en otras plataformas. Las que se han mantenido en los ultimos años son los juegos de **'Call of Duty'**, **'Grand Theft Auto'** y **'FIFA'**, y sus versiones mas actualizadas en un volumen estable de ventas acsendentes."
   ]
  },
  {
   "cell_type": "markdown",
   "metadata": {},
   "source": [
    "### Analisis por genero "
   ]
  },
  {
   "cell_type": "markdown",
   "metadata": {},
   "source": [
    "Ahora vamos a verificar los generos de mayor interes y determinar de esta forma, si podemos generalizar acerca de los géneros con ventas altas y bajas."
   ]
  },
  {
   "cell_type": "code",
   "execution_count": 462,
   "metadata": {},
   "outputs": [
    {
     "data": {
      "text/html": [
       "<div>\n",
       "<style scoped>\n",
       "    .dataframe tbody tr th:only-of-type {\n",
       "        vertical-align: middle;\n",
       "    }\n",
       "\n",
       "    .dataframe tbody tr th {\n",
       "        vertical-align: top;\n",
       "    }\n",
       "\n",
       "    .dataframe thead th {\n",
       "        text-align: right;\n",
       "    }\n",
       "</style>\n",
       "<table border=\"1\" class=\"dataframe\">\n",
       "  <thead>\n",
       "    <tr style=\"text-align: right;\">\n",
       "      <th></th>\n",
       "      <th>genre</th>\n",
       "      <th>count</th>\n",
       "    </tr>\n",
       "  </thead>\n",
       "  <tbody>\n",
       "    <tr>\n",
       "      <th>0</th>\n",
       "      <td>Action</td>\n",
       "      <td>3369</td>\n",
       "    </tr>\n",
       "    <tr>\n",
       "      <th>1</th>\n",
       "      <td>Sports</td>\n",
       "      <td>2348</td>\n",
       "    </tr>\n",
       "    <tr>\n",
       "      <th>2</th>\n",
       "      <td>Misc</td>\n",
       "      <td>1750</td>\n",
       "    </tr>\n",
       "    <tr>\n",
       "      <th>3</th>\n",
       "      <td>Role-Playing</td>\n",
       "      <td>1498</td>\n",
       "    </tr>\n",
       "    <tr>\n",
       "      <th>4</th>\n",
       "      <td>Shooter</td>\n",
       "      <td>1323</td>\n",
       "    </tr>\n",
       "    <tr>\n",
       "      <th>5</th>\n",
       "      <td>Adventure</td>\n",
       "      <td>1303</td>\n",
       "    </tr>\n",
       "    <tr>\n",
       "      <th>6</th>\n",
       "      <td>Racing</td>\n",
       "      <td>1249</td>\n",
       "    </tr>\n",
       "    <tr>\n",
       "      <th>7</th>\n",
       "      <td>Platform</td>\n",
       "      <td>888</td>\n",
       "    </tr>\n",
       "    <tr>\n",
       "      <th>8</th>\n",
       "      <td>Simulation</td>\n",
       "      <td>873</td>\n",
       "    </tr>\n",
       "    <tr>\n",
       "      <th>9</th>\n",
       "      <td>Fighting</td>\n",
       "      <td>849</td>\n",
       "    </tr>\n",
       "    <tr>\n",
       "      <th>10</th>\n",
       "      <td>Strategy</td>\n",
       "      <td>683</td>\n",
       "    </tr>\n",
       "    <tr>\n",
       "      <th>11</th>\n",
       "      <td>Puzzle</td>\n",
       "      <td>580</td>\n",
       "    </tr>\n",
       "  </tbody>\n",
       "</table>\n",
       "</div>"
      ],
      "text/plain": [
       "           genre  count\n",
       "0         Action   3369\n",
       "1         Sports   2348\n",
       "2           Misc   1750\n",
       "3   Role-Playing   1498\n",
       "4        Shooter   1323\n",
       "5      Adventure   1303\n",
       "6         Racing   1249\n",
       "7       Platform    888\n",
       "8     Simulation    873\n",
       "9       Fighting    849\n",
       "10      Strategy    683\n",
       "11        Puzzle    580"
      ]
     },
     "execution_count": 462,
     "metadata": {},
     "output_type": "execute_result"
    }
   ],
   "source": [
    "genre_counts = df_gms['genre'].value_counts()\n",
    "genre_counts.reset_index()"
   ]
  },
  {
   "cell_type": "markdown",
   "metadata": {},
   "source": [
    "Aqui contamos la cantidad de juegos en cada género utilizando value_counts() en la columna 'genre'. Tambien puede ser prudente generar un grafico de barras para visualizarla  de mejor manera."
   ]
  },
  {
   "cell_type": "code",
   "execution_count": 463,
   "metadata": {},
   "outputs": [
    {
     "data": {
      "image/png": "[encoded data removed]",
      "text/plain": [
       "<Figure size 1000x600 with 1 Axes>"
      ]
     },
     "metadata": {},
     "output_type": "display_data"
    }
   ],
   "source": [
    "plt.figure(figsize=(10, 6))\n",
    "genre_counts.plot(kind='bar', color='orange')\n",
    "plt.title('Distribución de juegos por género')\n",
    "plt.xlabel('Género')\n",
    "plt.ylabel('Cantidad de juegos')\n",
    "plt.xticks(rotation=45, ha='right')\n",
    "plt.grid(axis='y', linestyle='--', alpha=0.7)\n",
    "plt.tight_layout()\n",
    "plt.show()"
   ]
  },
  {
   "cell_type": "markdown",
   "metadata": {},
   "source": [
    "El genero de accion es el que tiene mayor cantidad de juegos por plataforma, y tambien el genero de deportes con mas de 2000 liderando la lista."
   ]
  },
  {
   "cell_type": "markdown",
   "metadata": {},
   "source": [
    "Y tambien realizaremos una agrupacion con la columna 'all_sales', para verificar cuales generos son los mas rentables que tenemos, y de esta manera llegar a geneneralizar acerca de los géneros con ventas altas y bajas en función de estas ventas totales."
   ]
  },
  {
   "cell_type": "code",
   "execution_count": 464,
   "metadata": {},
   "outputs": [
    {
     "data": {
      "text/html": [
       "<div>\n",
       "<style scoped>\n",
       "    .dataframe tbody tr th:only-of-type {\n",
       "        vertical-align: middle;\n",
       "    }\n",
       "\n",
       "    .dataframe tbody tr th {\n",
       "        vertical-align: top;\n",
       "    }\n",
       "\n",
       "    .dataframe thead th {\n",
       "        text-align: right;\n",
       "    }\n",
       "</style>\n",
       "<table border=\"1\" class=\"dataframe\">\n",
       "  <thead>\n",
       "    <tr style=\"text-align: right;\">\n",
       "      <th></th>\n",
       "      <th>genre</th>\n",
       "      <th>all_sales</th>\n",
       "    </tr>\n",
       "  </thead>\n",
       "  <tbody>\n",
       "    <tr>\n",
       "      <th>0</th>\n",
       "      <td>Action</td>\n",
       "      <td>1744.17</td>\n",
       "    </tr>\n",
       "    <tr>\n",
       "      <th>1</th>\n",
       "      <td>Sports</td>\n",
       "      <td>1331.27</td>\n",
       "    </tr>\n",
       "    <tr>\n",
       "      <th>2</th>\n",
       "      <td>Shooter</td>\n",
       "      <td>1052.45</td>\n",
       "    </tr>\n",
       "    <tr>\n",
       "      <th>3</th>\n",
       "      <td>Role-Playing</td>\n",
       "      <td>934.56</td>\n",
       "    </tr>\n",
       "    <tr>\n",
       "      <th>4</th>\n",
       "      <td>Platform</td>\n",
       "      <td>827.77</td>\n",
       "    </tr>\n",
       "  </tbody>\n",
       "</table>\n",
       "</div>"
      ],
      "text/plain": [
       "          genre  all_sales\n",
       "0        Action    1744.17\n",
       "1        Sports    1331.27\n",
       "2       Shooter    1052.45\n",
       "3  Role-Playing     934.56\n",
       "4      Platform     827.77"
      ]
     },
     "execution_count": 464,
     "metadata": {},
     "output_type": "execute_result"
    }
   ],
   "source": [
    "ventas_por_genero = df_gms.groupby('genre')['all_sales'].sum().sort_values(ascending=False)\n",
    "ventas_por_genero.reset_index().head()"
   ]
  },
  {
   "cell_type": "markdown",
   "metadata": {},
   "source": [
    "Con este enfoque, podemos analizar las ventas totales de cada género  en función de estas ventas totales en general."
   ]
  },
  {
   "cell_type": "code",
   "execution_count": 465,
   "metadata": {},
   "outputs": [
    {
     "data": {
      "text/html": [
       "<div>\n",
       "<style scoped>\n",
       "    .dataframe tbody tr th:only-of-type {\n",
       "        vertical-align: middle;\n",
       "    }\n",
       "\n",
       "    .dataframe tbody tr th {\n",
       "        vertical-align: top;\n",
       "    }\n",
       "\n",
       "    .dataframe thead th {\n",
       "        text-align: right;\n",
       "    }\n",
       "</style>\n",
       "<table border=\"1\" class=\"dataframe\">\n",
       "  <thead>\n",
       "    <tr style=\"text-align: right;\">\n",
       "      <th></th>\n",
       "      <th>genre</th>\n",
       "      <th>all_sales</th>\n",
       "    </tr>\n",
       "  </thead>\n",
       "  <tbody>\n",
       "    <tr>\n",
       "      <th>0</th>\n",
       "      <td>Action</td>\n",
       "      <td>1744.17</td>\n",
       "    </tr>\n",
       "    <tr>\n",
       "      <th>1</th>\n",
       "      <td>Sports</td>\n",
       "      <td>1331.27</td>\n",
       "    </tr>\n",
       "    <tr>\n",
       "      <th>2</th>\n",
       "      <td>Shooter</td>\n",
       "      <td>1052.45</td>\n",
       "    </tr>\n",
       "    <tr>\n",
       "      <th>3</th>\n",
       "      <td>Role-Playing</td>\n",
       "      <td>934.56</td>\n",
       "    </tr>\n",
       "    <tr>\n",
       "      <th>4</th>\n",
       "      <td>Platform</td>\n",
       "      <td>827.77</td>\n",
       "    </tr>\n",
       "    <tr>\n",
       "      <th>5</th>\n",
       "      <td>Misc</td>\n",
       "      <td>802.51</td>\n",
       "    </tr>\n",
       "    <tr>\n",
       "      <th>6</th>\n",
       "      <td>Racing</td>\n",
       "      <td>728.67</td>\n",
       "    </tr>\n",
       "    <tr>\n",
       "      <th>7</th>\n",
       "      <td>Fighting</td>\n",
       "      <td>447.53</td>\n",
       "    </tr>\n",
       "    <tr>\n",
       "      <th>8</th>\n",
       "      <td>Simulation</td>\n",
       "      <td>389.97</td>\n",
       "    </tr>\n",
       "    <tr>\n",
       "      <th>9</th>\n",
       "      <td>Puzzle</td>\n",
       "      <td>242.57</td>\n",
       "    </tr>\n",
       "    <tr>\n",
       "      <th>10</th>\n",
       "      <td>Adventure</td>\n",
       "      <td>237.59</td>\n",
       "    </tr>\n",
       "    <tr>\n",
       "      <th>11</th>\n",
       "      <td>Strategy</td>\n",
       "      <td>174.23</td>\n",
       "    </tr>\n",
       "  </tbody>\n",
       "</table>\n",
       "</div>"
      ],
      "text/plain": [
       "           genre  all_sales\n",
       "0         Action    1744.17\n",
       "1         Sports    1331.27\n",
       "2        Shooter    1052.45\n",
       "3   Role-Playing     934.56\n",
       "4       Platform     827.77\n",
       "5           Misc     802.51\n",
       "6         Racing     728.67\n",
       "7       Fighting     447.53\n",
       "8     Simulation     389.97\n",
       "9         Puzzle     242.57\n",
       "10     Adventure     237.59\n",
       "11      Strategy     174.23"
      ]
     },
     "execution_count": 465,
     "metadata": {},
     "output_type": "execute_result"
    }
   ],
   "source": [
    "ventas_por_genero = ventas_por_genero.reset_index()\n",
    "ventas_por_genero"
   ]
  },
  {
   "cell_type": "markdown",
   "metadata": {},
   "source": [
    "Primero convertimos la Serie ventas_por_genero en un DataFrame utilizando el método reset_index(), y luego procedemos a graficar las ventas por género."
   ]
  },
  {
   "cell_type": "code",
   "execution_count": 466,
   "metadata": {},
   "outputs": [
    {
     "data": {
      "image/png": "[encoded data removed]",
      "text/plain": [
       "<Figure size 1000x600 with 1 Axes>"
      ]
     },
     "metadata": {},
     "output_type": "display_data"
    }
   ],
   "source": [
    "plt.figure(figsize=(10, 6))\n",
    "plt.bar(ventas_por_genero['genre'], ventas_por_genero['all_sales'], color='silver')\n",
    "plt.xlabel('Género')\n",
    "plt.ylabel('Ventas totales')\n",
    "plt.title('Ventas totales por género')\n",
    "plt.xticks(rotation=45, ha='right')\n",
    "plt.tight_layout()\n",
    "plt.show()"
   ]
  },
  {
   "cell_type": "markdown",
   "metadata": {},
   "source": [
    "Determinamos de esta manera que los generos mas rentables son los de **'Action'**, **'Sports'** y **'Shooter'**. Y tambien los mas populares debido a que tienen las mejores calidficasiones por usuarios y expertos. "
   ]
  },
  {
   "cell_type": "markdown",
   "metadata": {},
   "source": [
    "Podriamos generalizar sobre acerca de los géneros con ventas altas, determinando que estas corresponden a genreos  que tienen mayor cantidad de plataformas y se actualizan mas contantemente a cada una de ellas."
   ]
  },
  {
   "cell_type": "markdown",
   "metadata": {},
   "source": [
    "Y de la misma forma tambien determinamos que los generos con ventas mas bajas, corresponden a juegos que no han recibido una actualizasion para plataformas mas rentables. Como los generos de **'Puzzle'**, o **'Strategy'** los cuales no tienen juegos que corran en las plataformas mas rentables y hace que sus ventas sean limitadas o  mas bajas."
   ]
  },
  {
   "cell_type": "markdown",
   "metadata": {},
   "source": [
    "# 4. Crea un perfil de usuario para cada región"
   ]
  },
  {
   "cell_type": "markdown",
   "metadata": {},
   "source": [
    "###### 4.1 Ahora determinaremos las 5 plataformas principales para cada reguion especifica."
   ]
  },
  {
   "cell_type": "code",
   "execution_count": 467,
   "metadata": {},
   "outputs": [
    {
     "data": {
      "text/html": [
       "<div>\n",
       "<style scoped>\n",
       "    .dataframe tbody tr th:only-of-type {\n",
       "        vertical-align: middle;\n",
       "    }\n",
       "\n",
       "    .dataframe tbody tr th {\n",
       "        vertical-align: top;\n",
       "    }\n",
       "\n",
       "    .dataframe thead th {\n",
       "        text-align: right;\n",
       "    }\n",
       "</style>\n",
       "<table border=\"1\" class=\"dataframe\">\n",
       "  <thead>\n",
       "    <tr style=\"text-align: right;\">\n",
       "      <th></th>\n",
       "      <th>na_sales</th>\n",
       "      <th>eu_sales</th>\n",
       "      <th>jp_sales</th>\n",
       "      <th>other_sales</th>\n",
       "      <th>all_sales</th>\n",
       "    </tr>\n",
       "    <tr>\n",
       "      <th>platform</th>\n",
       "      <th></th>\n",
       "      <th></th>\n",
       "      <th></th>\n",
       "      <th></th>\n",
       "      <th></th>\n",
       "    </tr>\n",
       "  </thead>\n",
       "  <tbody>\n",
       "    <tr>\n",
       "      <th>3DS</th>\n",
       "      <td>NaN</td>\n",
       "      <td>NaN</td>\n",
       "      <td>100.67</td>\n",
       "      <td>NaN</td>\n",
       "      <td>NaN</td>\n",
       "    </tr>\n",
       "    <tr>\n",
       "      <th>DS</th>\n",
       "      <td>382.40</td>\n",
       "      <td>NaN</td>\n",
       "      <td>175.57</td>\n",
       "      <td>59.26</td>\n",
       "      <td>806.12</td>\n",
       "    </tr>\n",
       "    <tr>\n",
       "      <th>PS</th>\n",
       "      <td>NaN</td>\n",
       "      <td>213.61</td>\n",
       "      <td>139.82</td>\n",
       "      <td>NaN</td>\n",
       "      <td>NaN</td>\n",
       "    </tr>\n",
       "    <tr>\n",
       "      <th>PS2</th>\n",
       "      <td>583.84</td>\n",
       "      <td>339.29</td>\n",
       "      <td>139.20</td>\n",
       "      <td>193.44</td>\n",
       "      <td>1255.77</td>\n",
       "    </tr>\n",
       "    <tr>\n",
       "      <th>PS3</th>\n",
       "      <td>393.49</td>\n",
       "      <td>330.29</td>\n",
       "      <td>NaN</td>\n",
       "      <td>135.68</td>\n",
       "      <td>939.65</td>\n",
       "    </tr>\n",
       "  </tbody>\n",
       "</table>\n",
       "</div>"
      ],
      "text/plain": [
       "          na_sales  eu_sales  jp_sales  other_sales  all_sales\n",
       "platform                                                      \n",
       "3DS            NaN       NaN    100.67          NaN        NaN\n",
       "DS          382.40       NaN    175.57        59.26     806.12\n",
       "PS             NaN    213.61    139.82          NaN        NaN\n",
       "PS2         583.84    339.29    139.20       193.44    1255.77\n",
       "PS3         393.49    330.29       NaN       135.68     939.65"
      ]
     },
     "execution_count": 467,
     "metadata": {},
     "output_type": "execute_result"
    }
   ],
   "source": [
    "region_plataforma_sls = df_gms.groupby('platform')[['na_sales', 'eu_sales', 'jp_sales', 'other_sales', 'all_sales']].sum()\n",
    "pricpl_region_pltsfrm = region_plataforma_sls.apply(lambda x: x.nlargest(5), axis=0)\n",
    "pricpl_region_pltsfrm.head()"
   ]
  },
  {
   "cell_type": "markdown",
   "metadata": {},
   "source": [
    "Asi hemos generado un DataFrame llamado **'pricpl_region_pltsfrm'**, que contendrá las cinco plataformas principales para cada región, y pese a los valores ausentes en ciertas filas, notamos exelentes numeros de ventas en las plataformas de Play_Station y sus derivados."
   ]
  },
  {
   "cell_type": "code",
   "execution_count": 468,
   "metadata": {},
   "outputs": [
    {
     "data": {
      "text/html": [
       "<div>\n",
       "<style scoped>\n",
       "    .dataframe tbody tr th:only-of-type {\n",
       "        vertical-align: middle;\n",
       "    }\n",
       "\n",
       "    .dataframe tbody tr th {\n",
       "        vertical-align: top;\n",
       "    }\n",
       "\n",
       "    .dataframe thead th {\n",
       "        text-align: right;\n",
       "    }\n",
       "</style>\n",
       "<table border=\"1\" class=\"dataframe\">\n",
       "  <thead>\n",
       "    <tr style=\"text-align: right;\">\n",
       "      <th></th>\n",
       "      <th>na_sales</th>\n",
       "      <th>eu_sales</th>\n",
       "      <th>jp_sales</th>\n",
       "      <th>other_sales</th>\n",
       "      <th>all_sales</th>\n",
       "    </tr>\n",
       "    <tr>\n",
       "      <th>platform</th>\n",
       "      <th></th>\n",
       "      <th></th>\n",
       "      <th></th>\n",
       "      <th></th>\n",
       "      <th></th>\n",
       "    </tr>\n",
       "  </thead>\n",
       "  <tbody>\n",
       "    <tr>\n",
       "      <th>PS2</th>\n",
       "      <td>583.84</td>\n",
       "      <td>339.29</td>\n",
       "      <td>139.2</td>\n",
       "      <td>193.44</td>\n",
       "      <td>1255.77</td>\n",
       "    </tr>\n",
       "  </tbody>\n",
       "</table>\n",
       "</div>"
      ],
      "text/plain": [
       "          na_sales  eu_sales  jp_sales  other_sales  all_sales\n",
       "platform                                                      \n",
       "PS2         583.84    339.29     139.2       193.44    1255.77"
      ]
     },
     "execution_count": 468,
     "metadata": {},
     "output_type": "execute_result"
    }
   ],
   "source": [
    "df_gms_clean = df_gms.dropna(subset=['na_sales', 'eu_sales', 'jp_sales', 'other_sales'])\n",
    "df_gms_clean = pricpl_region_pltsfrm.dropna()\n",
    "df_gms_clean.head()"
   ]
  },
  {
   "cell_type": "code",
   "execution_count": 469,
   "metadata": {},
   "outputs": [],
   "source": [
    "for region in ['na_sales', 'eu_sales', 'jp_sales', 'other_sales']:\n",
    "  region_plataforma_sls = pricpl_region_pltsfrm.sort_values(by=region, ascending=False)\n",
    "  top_plataformas = region_plataforma_sls.head(5)\n",
    "  # Recorrer columnas de top_plataformas y asignar valores por columna\n",
    "  for col in top_plataformas.columns:\n",
    "    pricpl_region_pltsfrm[region] = top_plataformas[col]  # Asignación por columna\n",
    "  top_plataformas.dropna()\n",
    "  top_plataformas.head()"
   ]
  },
  {
   "cell_type": "markdown",
   "metadata": {},
   "source": [
    "**Esta tabla calcula  las ventas totales por plataforma en cada región y luego determina las cinco plataformas principales en función de esas ventas totales.De esta manera determinamos que las 5 principales plataformas especificas corresponden a 'PS2', 'PS3', 'X360', 'Wii', y 'DS', respectivamennte.**"
   ]
  },
  {
   "cell_type": "markdown",
   "metadata": {},
   "source": [
    "###### 4.2 Ahora compararemos estas cuotas de mercado entre las diferentes regiones para cada una de las cinco plataformas principales."
   ]
  },
  {
   "cell_type": "markdown",
   "metadata": {},
   "source": [
    "Para esto generaremos diferentes graficos de barras para poder describir, las variaciones en las cuotas de mercado de una región a otra."
   ]
  },
  {
   "cell_type": "code",
   "execution_count": 470,
   "metadata": {},
   "outputs": [
    {
     "data": {
      "text/html": [
       "<div>\n",
       "<style scoped>\n",
       "    .dataframe tbody tr th:only-of-type {\n",
       "        vertical-align: middle;\n",
       "    }\n",
       "\n",
       "    .dataframe tbody tr th {\n",
       "        vertical-align: top;\n",
       "    }\n",
       "\n",
       "    .dataframe thead th {\n",
       "        text-align: right;\n",
       "    }\n",
       "</style>\n",
       "<table border=\"1\" class=\"dataframe\">\n",
       "  <thead>\n",
       "    <tr style=\"text-align: right;\">\n",
       "      <th></th>\n",
       "      <th>na_sales</th>\n",
       "      <th>eu_sales</th>\n",
       "      <th>jp_sales</th>\n",
       "      <th>other_sales</th>\n",
       "    </tr>\n",
       "    <tr>\n",
       "      <th>platform</th>\n",
       "      <th></th>\n",
       "      <th></th>\n",
       "      <th></th>\n",
       "      <th></th>\n",
       "    </tr>\n",
       "  </thead>\n",
       "  <tbody>\n",
       "    <tr>\n",
       "      <th>PS2</th>\n",
       "      <td>583.84</td>\n",
       "      <td>339.29</td>\n",
       "      <td>139.20</td>\n",
       "      <td>193.44</td>\n",
       "    </tr>\n",
       "    <tr>\n",
       "      <th>PS3</th>\n",
       "      <td>393.49</td>\n",
       "      <td>330.29</td>\n",
       "      <td>80.19</td>\n",
       "      <td>135.68</td>\n",
       "    </tr>\n",
       "    <tr>\n",
       "      <th>X360</th>\n",
       "      <td>602.47</td>\n",
       "      <td>270.76</td>\n",
       "      <td>12.43</td>\n",
       "      <td>85.76</td>\n",
       "    </tr>\n",
       "    <tr>\n",
       "      <th>Wii</th>\n",
       "      <td>496.90</td>\n",
       "      <td>262.21</td>\n",
       "      <td>69.33</td>\n",
       "      <td>79.07</td>\n",
       "    </tr>\n",
       "    <tr>\n",
       "      <th>DS</th>\n",
       "      <td>382.40</td>\n",
       "      <td>188.89</td>\n",
       "      <td>175.57</td>\n",
       "      <td>59.26</td>\n",
       "    </tr>\n",
       "  </tbody>\n",
       "</table>\n",
       "</div>"
      ],
      "text/plain": [
       "          na_sales  eu_sales  jp_sales  other_sales\n",
       "platform                                           \n",
       "PS2         583.84    339.29    139.20       193.44\n",
       "PS3         393.49    330.29     80.19       135.68\n",
       "X360        602.47    270.76     12.43        85.76\n",
       "Wii         496.90    262.21     69.33        79.07\n",
       "DS          382.40    188.89    175.57        59.26"
      ]
     },
     "execution_count": 470,
     "metadata": {},
     "output_type": "execute_result"
    }
   ],
   "source": [
    "ventas_por_region_y_plataforma = df_gms.groupby('platform')[['na_sales', 'eu_sales', 'jp_sales', 'other_sales']].sum()\n",
    "plataformas_principales_por_region = {}\n",
    "for region in ['na_sales', 'eu_sales', 'jp_sales', 'other_sales']:\n",
    "    region_plataforma_sls = ventas_por_region_y_plataforma.sort_values(by=region, ascending=False)\n",
    "    top_plataformas = region_plataforma_sls.head(5)\n",
    "    plataformas_principales_por_region[region] = top_plataformas\n",
    "top_plataformas.dropna()\n",
    "top_plataformas"
   ]
  },
  {
   "cell_type": "code",
   "execution_count": 471,
   "metadata": {},
   "outputs": [
    {
     "data": {
      "image/png": "[encoded data removed]",
      "text/plain": [
       "<Figure size 1200x1000 with 4 Axes>"
      ]
     },
     "metadata": {},
     "output_type": "display_data"
    }
   ],
   "source": [
    "fig, axes = plt.subplots(nrows=2, ncols=2, figsize=(12, 10))\n",
    "for i, (region, top_plataformas) in enumerate(plataformas_principales_por_region.items()):\n",
    "    ax = axes[i // 2, i % 2]\n",
    "    top_plataformas.plot(kind='bar', ax=ax)\n",
    "    ax.set_title(f\"Top 5 Plataformas en {region}\")\n",
    "    ax.set_xlabel(\"Plataforma\")\n",
    "    ax.set_ylabel(\"Ventas (en millones)\")\n",
    "    ax.grid(axis='y')\n",
    "plt.tight_layout()\n",
    "plt.show()"
   ]
  },
  {
   "cell_type": "markdown",
   "metadata": {},
   "source": [
    "Las plataformas de Xbox y de Play Station predominan en èu_sales', 'na_sales' y 'other_sales'."
   ]
  },
  {
   "cell_type": "markdown",
   "metadata": {},
   "source": [
    "Sin embargo en 'jp_sales' notamos un predoinio principal en ventas por la plataforma 'PS2' que se pocisiona en todas las reguiones como la mas rentable, pero a diferencia de otras regiones o the 'other_sales', en esta regiuion no encontramos a 'X360' como una de las principales plataformas que determinamos anterioirmente."
   ]
  },
  {
   "cell_type": "markdown",
   "metadata": {},
   "source": [
    "***En cuanto a las variaciones de mercado en plataformas de una region a otra, podriamos decir que la plataforma de **'PS2'** predomina en cada una de las regiones asi como tambien la plataforma sw **'X360'** a ecepcionde la region jp_sales quien no cuenta con esta plataforma dentro de su top.***"
   ]
  },
  {
   "cell_type": "markdown",
   "metadata": {},
   "source": [
    "###### 4.3 A continuacion vamor a determinar los cinco géneros principales. y a verificar sus diferencias principales."
   ]
  },
  {
   "cell_type": "code",
   "execution_count": 472,
   "metadata": {},
   "outputs": [
    {
     "data": {
      "text/html": [
       "<div>\n",
       "<style scoped>\n",
       "    .dataframe tbody tr th:only-of-type {\n",
       "        vertical-align: middle;\n",
       "    }\n",
       "\n",
       "    .dataframe tbody tr th {\n",
       "        vertical-align: top;\n",
       "    }\n",
       "\n",
       "    .dataframe thead th {\n",
       "        text-align: right;\n",
       "    }\n",
       "</style>\n",
       "<table border=\"1\" class=\"dataframe\">\n",
       "  <thead>\n",
       "    <tr style=\"text-align: right;\">\n",
       "      <th></th>\n",
       "      <th>genre</th>\n",
       "      <th>all_sales</th>\n",
       "    </tr>\n",
       "  </thead>\n",
       "  <tbody>\n",
       "    <tr>\n",
       "      <th>0</th>\n",
       "      <td>Action</td>\n",
       "      <td>1744.17</td>\n",
       "    </tr>\n",
       "    <tr>\n",
       "      <th>1</th>\n",
       "      <td>Sports</td>\n",
       "      <td>1331.27</td>\n",
       "    </tr>\n",
       "    <tr>\n",
       "      <th>2</th>\n",
       "      <td>Shooter</td>\n",
       "      <td>1052.45</td>\n",
       "    </tr>\n",
       "    <tr>\n",
       "      <th>3</th>\n",
       "      <td>Role-Playing</td>\n",
       "      <td>934.56</td>\n",
       "    </tr>\n",
       "    <tr>\n",
       "      <th>4</th>\n",
       "      <td>Platform</td>\n",
       "      <td>827.77</td>\n",
       "    </tr>\n",
       "  </tbody>\n",
       "</table>\n",
       "</div>"
      ],
      "text/plain": [
       "          genre  all_sales\n",
       "0        Action    1744.17\n",
       "1        Sports    1331.27\n",
       "2       Shooter    1052.45\n",
       "3  Role-Playing     934.56\n",
       "4      Platform     827.77"
      ]
     },
     "execution_count": 472,
     "metadata": {},
     "output_type": "execute_result"
    }
   ],
   "source": [
    "sales_gnre = df_gms.groupby('genre')['all_sales'].sum()\n",
    "sales_gnre = sales_gnre.sort_values(ascending=False)\n",
    "sales_gnre.reset_index().head(5)"
   ]
  },
  {
   "cell_type": "markdown",
   "metadata": {},
   "source": [
    "Asi calculamos las ventas totales por género, y seleccionará los cinco géneros principales. Para explicar sus dierencias especificas, vamos a generar un grafico de barras para poder visualizarlos de mejor manera. Esta vez lo haremos muy dinamico para que nos muestre lo que queremos ver en especifico"
   ]
  },
  {
   "cell_type": "code",
   "execution_count": 473,
   "metadata": {},
   "outputs": [
    {
     "data": {
      "image/png": "[encoded data removed]",
      "text/plain": [
       "<Figure size 1000x600 with 1 Axes>"
      ]
     },
     "metadata": {},
     "output_type": "display_data"
    }
   ],
   "source": [
    "df_gms_2014 = df_gms[df_gms['year_of_release'] >= 2014]\n",
    "sales_gnre.plot(kind='bar', figsize=(10, 6), color='magenta')\n",
    "plt.title('Cinco Géneros Principales por Ventas Totales')\n",
    "plt.xlabel('Género')\n",
    "plt.ylabel('Ventas Totales (en millones)')\n",
    "plt.xticks(rotation=45, ha='right')\n",
    "plt.grid(axis='y')\n",
    "plt.tight_layout()\n",
    "plt.show()"
   ]
  },
  {
   "cell_type": "markdown",
   "metadata": {},
   "source": [
    "Asi determinamos que el genero lider en ventas es el de **'Action'**, seguido por  **'Sports'**, **'Shooter'** y **'Role-Playing'**. En cuanto a 'Action y 'Shooter', son generos parecidos pero debemos ser mas objetivos en esta parte, asi que hasta el momento y tomando en cuenta los analisis previos de plataformas, si podriamos determinar que son generos que tiene gran cantidad de juegos en diferentes plataformas y debido a ello abarcan mas usuarios y sus ventas siempre son las mas altas."
   ]
  },
  {
   "cell_type": "markdown",
   "metadata": {},
   "source": [
    "###### 4.4 Tambien es importante determinar si las clasificaciones de ESRB afectan a las ventas en regiones individuales. Asi que vamos  a revisar esta parte tambien."
   ]
  },
  {
   "cell_type": "code",
   "execution_count": 474,
   "metadata": {},
   "outputs": [
    {
     "data": {
      "text/html": [
       "<div>\n",
       "<style scoped>\n",
       "    .dataframe tbody tr th:only-of-type {\n",
       "        vertical-align: middle;\n",
       "    }\n",
       "\n",
       "    .dataframe tbody tr th {\n",
       "        vertical-align: top;\n",
       "    }\n",
       "\n",
       "    .dataframe thead th {\n",
       "        text-align: right;\n",
       "    }\n",
       "</style>\n",
       "<table border=\"1\" class=\"dataframe\">\n",
       "  <thead>\n",
       "    <tr style=\"text-align: right;\">\n",
       "      <th></th>\n",
       "      <th>rating</th>\n",
       "      <th>na_sales</th>\n",
       "      <th>eu_sales</th>\n",
       "      <th>jp_sales</th>\n",
       "      <th>other_sales</th>\n",
       "    </tr>\n",
       "  </thead>\n",
       "  <tbody>\n",
       "    <tr>\n",
       "      <th>0</th>\n",
       "      <td>E</td>\n",
       "      <td>50.74</td>\n",
       "      <td>58.06</td>\n",
       "      <td>8.94</td>\n",
       "      <td>15.39</td>\n",
       "    </tr>\n",
       "    <tr>\n",
       "      <th>1</th>\n",
       "      <td>E10+</td>\n",
       "      <td>33.23</td>\n",
       "      <td>26.16</td>\n",
       "      <td>4.46</td>\n",
       "      <td>7.83</td>\n",
       "    </tr>\n",
       "    <tr>\n",
       "      <th>2</th>\n",
       "      <td>M</td>\n",
       "      <td>96.42</td>\n",
       "      <td>93.44</td>\n",
       "      <td>8.01</td>\n",
       "      <td>28.67</td>\n",
       "    </tr>\n",
       "    <tr>\n",
       "      <th>3</th>\n",
       "      <td>T</td>\n",
       "      <td>38.95</td>\n",
       "      <td>34.07</td>\n",
       "      <td>14.78</td>\n",
       "      <td>11.33</td>\n",
       "    </tr>\n",
       "  </tbody>\n",
       "</table>\n",
       "</div>"
      ],
      "text/plain": [
       "  rating  na_sales  eu_sales  jp_sales  other_sales\n",
       "0      E     50.74     58.06      8.94        15.39\n",
       "1   E10+     33.23     26.16      4.46         7.83\n",
       "2      M     96.42     93.44      8.01        28.67\n",
       "3      T     38.95     34.07     14.78        11.33"
      ]
     },
     "execution_count": 474,
     "metadata": {},
     "output_type": "execute_result"
    }
   ],
   "source": [
    "df_gms_2014 = df_gms[df_gms['year_of_release'] >= 2014]\n",
    "regiones = ['na_sales', 'eu_sales', 'jp_sales', 'other_sales']\n",
    "ventas_por_esrb_y_region = df_gms_2014.groupby(['rating'])[regiones].sum().reset_index()\n",
    "ventas_por_esrb_y_region"
   ]
  },
  {
   "cell_type": "markdown",
   "metadata": {},
   "source": [
    "Vamos a generar un grafico de barras para visualizar esta tabla"
   ]
  },
  {
   "cell_type": "code",
   "execution_count": 475,
   "metadata": {},
   "outputs": [
    {
     "data": {
      "image/png": "[encoded data removed]",
      "text/plain": [
       "<Figure size 1000x600 with 1 Axes>"
      ]
     },
     "metadata": {},
     "output_type": "display_data"
    }
   ],
   "source": [
    "plt.figure(figsize=(10, 6))\n",
    "for region in regiones:\n",
    "    plt.bar(ventas_por_esrb_y_region['rating'], ventas_por_esrb_y_region[region], label=region)\n",
    "plt.title('Ventas por Clasificación ESRB y Región')\n",
    "plt.xlabel('Clasificación ESRB')\n",
    "plt.ylabel('Ventas (en millones)')\n",
    "plt.xticks(rotation=45, ha='right')\n",
    "plt.legend()\n",
    "plt.show()"
   ]
  },
  {
   "cell_type": "markdown",
   "metadata": {},
   "source": [
    "Este gráfico permite visualizar fácilmente cómo varían las ventas de videojuegos por clasificación ESRB en diferentes regiones. Cada barra representa una clasificación ESRB y los diferentes colores de las barras corresponden a las diferentes regiones."
   ]
  },
  {
   "cell_type": "markdown",
   "metadata": {},
   "source": [
    "**Asi determinamos que las calificasiones de ESRB afesctan las ventas de ciertas regiones individuales como 'jp_sales' o 'eu_sales, ya que estas son las reguiones mas irregulares segun su calificasion especifica. Aun asi, podemos ver una notoria alza de resultados por la calificasion 'M' de ESRB**"
   ]
  },
  {
   "cell_type": "markdown",
   "metadata": {},
   "source": []
  },
  {
   "cell_type": "markdown",
   "metadata": {},
   "source": [
    "# 5 Pruebas de Hipotesis"
   ]
  },
  {
   "cell_type": "markdown",
   "metadata": {},
   "source": [
    "Al tener demasiada similitud en las calificasiones de los usuarios en genral para las plataformas 'XboxOne' y 'PC', vamos a generar nuestra hipoteis nula basandonos en el hecho de que las calificasiones para estas platformas son las mismas. Para ello, lo primero sera filtar los datos y eliminar los valores auusentes en las columnas de interes."
   ]
  },
  {
   "cell_type": "code",
   "execution_count": 476,
   "metadata": {},
   "outputs": [
    {
     "data": {
      "text/html": [
       "<div>\n",
       "<style scoped>\n",
       "    .dataframe tbody tr th:only-of-type {\n",
       "        vertical-align: middle;\n",
       "    }\n",
       "\n",
       "    .dataframe tbody tr th {\n",
       "        vertical-align: top;\n",
       "    }\n",
       "\n",
       "    .dataframe thead th {\n",
       "        text-align: right;\n",
       "    }\n",
       "</style>\n",
       "<table border=\"1\" class=\"dataframe\">\n",
       "  <thead>\n",
       "    <tr style=\"text-align: right;\">\n",
       "      <th></th>\n",
       "      <th>index</th>\n",
       "      <th>user_score</th>\n",
       "    </tr>\n",
       "  </thead>\n",
       "  <tbody>\n",
       "    <tr>\n",
       "      <th>0</th>\n",
       "      <td>165</td>\n",
       "      <td>7.9</td>\n",
       "    </tr>\n",
       "    <tr>\n",
       "      <th>1</th>\n",
       "      <td>179</td>\n",
       "      <td>5.4</td>\n",
       "    </tr>\n",
       "    <tr>\n",
       "      <th>2</th>\n",
       "      <td>242</td>\n",
       "      <td>6.4</td>\n",
       "    </tr>\n",
       "    <tr>\n",
       "      <th>3</th>\n",
       "      <td>270</td>\n",
       "      <td>6.2</td>\n",
       "    </tr>\n",
       "    <tr>\n",
       "      <th>4</th>\n",
       "      <td>373</td>\n",
       "      <td>4.1</td>\n",
       "    </tr>\n",
       "  </tbody>\n",
       "</table>\n",
       "</div>"
      ],
      "text/plain": [
       "   index  user_score\n",
       "0    165         7.9\n",
       "1    179         5.4\n",
       "2    242         6.4\n",
       "3    270         6.2\n",
       "4    373         4.1"
      ]
     },
     "execution_count": 476,
     "metadata": {},
     "output_type": "execute_result"
    }
   ],
   "source": [
    "xbox_one_ratings = df_gms[df_gms['platform'] == 'XOne']['user_score'].dropna().astype('float')\n",
    "pc_ratings = df_gms[df_gms['platform'] == 'PC']['user_score'].dropna().astype('float')\n",
    "xbox_one_ratings.reset_index().head()"
   ]
  },
  {
   "cell_type": "code",
   "execution_count": 477,
   "metadata": {},
   "outputs": [
    {
     "data": {
      "text/html": [
       "<div>\n",
       "<style scoped>\n",
       "    .dataframe tbody tr th:only-of-type {\n",
       "        vertical-align: middle;\n",
       "    }\n",
       "\n",
       "    .dataframe tbody tr th {\n",
       "        vertical-align: top;\n",
       "    }\n",
       "\n",
       "    .dataframe thead th {\n",
       "        text-align: right;\n",
       "    }\n",
       "</style>\n",
       "<table border=\"1\" class=\"dataframe\">\n",
       "  <thead>\n",
       "    <tr style=\"text-align: right;\">\n",
       "      <th></th>\n",
       "      <th>index</th>\n",
       "      <th>user_score</th>\n",
       "    </tr>\n",
       "  </thead>\n",
       "  <tbody>\n",
       "    <tr>\n",
       "      <th>0</th>\n",
       "      <td>85</td>\n",
       "      <td>7.6</td>\n",
       "    </tr>\n",
       "    <tr>\n",
       "      <th>1</th>\n",
       "      <td>138</td>\n",
       "      <td>7.3</td>\n",
       "    </tr>\n",
       "    <tr>\n",
       "      <th>2</th>\n",
       "      <td>192</td>\n",
       "      <td>4.0</td>\n",
       "    </tr>\n",
       "    <tr>\n",
       "      <th>3</th>\n",
       "      <td>218</td>\n",
       "      <td>8.2</td>\n",
       "    </tr>\n",
       "    <tr>\n",
       "      <th>4</th>\n",
       "      <td>284</td>\n",
       "      <td>9.1</td>\n",
       "    </tr>\n",
       "  </tbody>\n",
       "</table>\n",
       "</div>"
      ],
      "text/plain": [
       "   index  user_score\n",
       "0     85         7.6\n",
       "1    138         7.3\n",
       "2    192         4.0\n",
       "3    218         8.2\n",
       "4    284         9.1"
      ]
     },
     "execution_count": 477,
     "metadata": {},
     "output_type": "execute_result"
    }
   ],
   "source": [
    "pc_ratings.reset_index().head()"
   ]
  },
  {
   "cell_type": "markdown",
   "metadata": {},
   "source": [
    "Generamos asi 2 tablas. 'xbox_one_ratings' que muestra las calificasiones de los usuarios para la plataforma 'XOne' y 'pc_ratings' que a su vez, nos indica las calificasiones para plataforma 'PC', y tambien realizamos una descripcion de las series."
   ]
  },
  {
   "cell_type": "markdown",
   "metadata": {},
   "source": [
    "###### 5.1 Generacion de Hipotesis 1."
   ]
  },
  {
   "cell_type": "markdown",
   "metadata": {},
   "source": [
    "***H0 = Las calificaciones promedio de los usuarios para las plataformas Xbox One y PC son las mismas.***"
   ]
  },
  {
   "cell_type": "markdown",
   "metadata": {},
   "source": [
    "***H1 = Las calificaciones promedio de los usuarios para las plataformas Xbox One y PC son diferentes.***"
   ]
  },
  {
   "cell_type": "code",
   "execution_count": 478,
   "metadata": {},
   "outputs": [
    {
     "name": "stdout",
     "output_type": "stream",
     "text": [
      "Estadístico t: -4.368333815003015\n",
      "Valor p: 1.3896435533548819e-05\n",
      "Hay evidencia suficiente para rechazar la hipótesis nula.\n",
      "Las calificaciones promedio son diferentes entre las dos plataformas.\n"
     ]
    }
   ],
   "source": [
    "calificaciones_xbox = xbox_one_ratings\n",
    "calificaciones_pc = pc_ratings\n",
    "\n",
    "t_statistic, p_value = stats.ttest_ind(calificaciones_xbox, calificaciones_pc)\n",
    "\n",
    "\n",
    "print(\"Estadístico t:\", t_statistic)\n",
    "print(\"Valor p:\", p_value)\n",
    "\n",
    "\n",
    "alpha = 0.05  \n",
    "if p_value < alpha:\n",
    "    print(\"Hay evidencia suficiente para rechazar la hipótesis nula.\")\n",
    "    print(\"Las calificaciones promedio son diferentes entre las dos plataformas.\")\n",
    "else:\n",
    "    print(\"No hay suficiente evidencia para rechazar la hipótesis nula.\")\n",
    "    print(\"No hay diferencias significativas en las calificaciones promedio entre las dos plataformas.\")"
   ]
  },
  {
   "cell_type": "markdown",
   "metadata": {},
   "source": [
    "De esta manera concluimos que nuesta hipotesis alternativa H1, la cual dicta que **Las calificaciones promedio de los usuarios para las plataformas 'XboxOne' y 'PC' son diferentes** es la correcta segun este test. Rechazando de esta manera la hipotesis nula H0, debido a que tenemos una diferencia estadistica significativa entre el promedio de las calificasiones para ambas plataformas."
   ]
  },
  {
   "cell_type": "markdown",
   "metadata": {},
   "source": [
    "###### 5.2 Generacion de Hipotesis 2."
   ]
  },
  {
   "cell_type": "markdown",
   "metadata": {},
   "source": [
    "La siguiente hipotesis a comprobar es sobre la calificasion en los generos mas populares. En este caso, lo que vamos a probar es que a pesar de que existen muchas similitudesen las calificasiones de los generos de Accion y Deportes, en promedio son diferentes."
   ]
  },
  {
   "cell_type": "markdown",
   "metadata": {},
   "source": [
    "**H0 = Las calificaciones promedio de los usuarios para los géneros de Acción y Deportes son diferentes.**\n",
    "\n",
    "**H1 = Las calificaciones promedio de los usuarios para los géneros de Acción y Deportes son las mismas.**"
   ]
  },
  {
   "cell_type": "code",
   "execution_count": 479,
   "metadata": {},
   "outputs": [
    {
     "data": {
      "text/html": [
       "<div>\n",
       "<style scoped>\n",
       "    .dataframe tbody tr th:only-of-type {\n",
       "        vertical-align: middle;\n",
       "    }\n",
       "\n",
       "    .dataframe tbody tr th {\n",
       "        vertical-align: top;\n",
       "    }\n",
       "\n",
       "    .dataframe thead th {\n",
       "        text-align: right;\n",
       "    }\n",
       "</style>\n",
       "<table border=\"1\" class=\"dataframe\">\n",
       "  <thead>\n",
       "    <tr style=\"text-align: right;\">\n",
       "      <th></th>\n",
       "      <th>name</th>\n",
       "      <th>platform</th>\n",
       "      <th>year_of_release</th>\n",
       "      <th>genre</th>\n",
       "      <th>na_sales</th>\n",
       "      <th>eu_sales</th>\n",
       "      <th>jp_sales</th>\n",
       "      <th>other_sales</th>\n",
       "      <th>critic_score</th>\n",
       "      <th>user_score</th>\n",
       "      <th>rating</th>\n",
       "      <th>all_sales</th>\n",
       "    </tr>\n",
       "  </thead>\n",
       "  <tbody>\n",
       "    <tr>\n",
       "      <th>0</th>\n",
       "      <td>Wii Sports</td>\n",
       "      <td>Wii</td>\n",
       "      <td>2006.0</td>\n",
       "      <td>Sports</td>\n",
       "      <td>41.36</td>\n",
       "      <td>28.96</td>\n",
       "      <td>3.77</td>\n",
       "      <td>8.45</td>\n",
       "      <td>76.0</td>\n",
       "      <td>8</td>\n",
       "      <td>E</td>\n",
       "      <td>82.54</td>\n",
       "    </tr>\n",
       "    <tr>\n",
       "      <th>3</th>\n",
       "      <td>Wii Sports Resort</td>\n",
       "      <td>Wii</td>\n",
       "      <td>2009.0</td>\n",
       "      <td>Sports</td>\n",
       "      <td>15.61</td>\n",
       "      <td>10.93</td>\n",
       "      <td>3.28</td>\n",
       "      <td>2.95</td>\n",
       "      <td>80.0</td>\n",
       "      <td>8</td>\n",
       "      <td>E</td>\n",
       "      <td>32.77</td>\n",
       "    </tr>\n",
       "    <tr>\n",
       "      <th>13</th>\n",
       "      <td>Wii Fit</td>\n",
       "      <td>Wii</td>\n",
       "      <td>2007.0</td>\n",
       "      <td>Sports</td>\n",
       "      <td>8.92</td>\n",
       "      <td>8.03</td>\n",
       "      <td>3.60</td>\n",
       "      <td>2.15</td>\n",
       "      <td>80.0</td>\n",
       "      <td>7.7</td>\n",
       "      <td>E</td>\n",
       "      <td>22.70</td>\n",
       "    </tr>\n",
       "    <tr>\n",
       "      <th>15</th>\n",
       "      <td>Wii Fit Plus</td>\n",
       "      <td>Wii</td>\n",
       "      <td>2009.0</td>\n",
       "      <td>Sports</td>\n",
       "      <td>9.01</td>\n",
       "      <td>8.49</td>\n",
       "      <td>2.53</td>\n",
       "      <td>1.77</td>\n",
       "      <td>80.0</td>\n",
       "      <td>7.4</td>\n",
       "      <td>E</td>\n",
       "      <td>21.80</td>\n",
       "    </tr>\n",
       "    <tr>\n",
       "      <th>16</th>\n",
       "      <td>Grand Theft Auto V</td>\n",
       "      <td>PS3</td>\n",
       "      <td>2013.0</td>\n",
       "      <td>Action</td>\n",
       "      <td>7.02</td>\n",
       "      <td>9.09</td>\n",
       "      <td>0.98</td>\n",
       "      <td>3.96</td>\n",
       "      <td>97.0</td>\n",
       "      <td>8.2</td>\n",
       "      <td>M</td>\n",
       "      <td>21.05</td>\n",
       "    </tr>\n",
       "  </tbody>\n",
       "</table>\n",
       "</div>"
      ],
      "text/plain": [
       "                  name platform  year_of_release   genre  na_sales  eu_sales  \\\n",
       "0           Wii Sports      Wii           2006.0  Sports     41.36     28.96   \n",
       "3    Wii Sports Resort      Wii           2009.0  Sports     15.61     10.93   \n",
       "13             Wii Fit      Wii           2007.0  Sports      8.92      8.03   \n",
       "15        Wii Fit Plus      Wii           2009.0  Sports      9.01      8.49   \n",
       "16  Grand Theft Auto V      PS3           2013.0  Action      7.02      9.09   \n",
       "\n",
       "    jp_sales  other_sales  critic_score user_score rating  all_sales  \n",
       "0       3.77         8.45          76.0          8      E      82.54  \n",
       "3       3.28         2.95          80.0          8      E      32.77  \n",
       "13      3.60         2.15          80.0        7.7      E      22.70  \n",
       "15      2.53         1.77          80.0        7.4      E      21.80  \n",
       "16      0.98         3.96          97.0        8.2      M      21.05  "
      ]
     },
     "execution_count": 479,
     "metadata": {},
     "output_type": "execute_result"
    }
   ],
   "source": [
    "genres_of_interest = ['Action', 'Sports']\n",
    "filtered_df = df_gms[df_gms['genre'].isin(genres_of_interest)]\n",
    "filtered_df.head()"
   ]
  },
  {
   "cell_type": "markdown",
   "metadata": {},
   "source": [
    "Filtramos el conjunto de datos  en primera instancia para incluir solo las calificaciones de los usuarios y los géneros de Acción y Deportes. Utilizamos el método isin() de Pandas para crear un filtro booleano que selecciona solo las filas donde el valor de la columna \"genre\" coincide con alguno de los géneros de interés."
   ]
  },
  {
   "cell_type": "markdown",
   "metadata": {},
   "source": [
    "Luego realizamos un analisis esdtadistico de los datos para calcular y despues compara las estadisticas descriptivas."
   ]
  },
  {
   "cell_type": "code",
   "execution_count": 480,
   "metadata": {},
   "outputs": [
    {
     "data": {
      "text/plain": [
       "7.054043715846995"
      ]
     },
     "execution_count": 480,
     "metadata": {},
     "output_type": "execute_result"
    }
   ],
   "source": [
    "action_ratings = filtered_df[filtered_df['genre'] == 'Action']['user_score'].dropna().astype(float)\n",
    "sports_ratings = filtered_df[filtered_df['genre'] == 'Sports']['user_score'].dropna().astype(float)\n",
    "action_mean = action_ratings.mean()\n",
    "action_mean"
   ]
  },
  {
   "cell_type": "code",
   "execution_count": 481,
   "metadata": {},
   "outputs": [
    {
     "data": {
      "text/plain": [
       "6.961196736174069"
      ]
     },
     "execution_count": 481,
     "metadata": {},
     "output_type": "execute_result"
    }
   ],
   "source": [
    "sports_mean = sports_ratings.mean()\n",
    "sports_mean"
   ]
  },
  {
   "cell_type": "code",
   "execution_count": 482,
   "metadata": {},
   "outputs": [
    {
     "name": "stdout",
     "output_type": "stream",
     "text": [
      "Las varianzas no son iguales. Usaremos equal_var=False en la prueba t.\n"
     ]
    }
   ],
   "source": [
    "levene_statistic, levene_p_value = stats.levene(action_ratings, sports_ratings)\n",
    "equal_var = True\n",
    "if levene_p_value < alpha:\n",
    "    print(\"Las varianzas no son iguales. Usaremos equal_var=False en la prueba t.\")\n",
    "    equal_var = False\n",
    "else:\n",
    "    print(\"No se puede rechazar la hipótesis nula de igualdad de varianzas. Usaremos equal_var=True en la prueba t.\")"
   ]
  },
  {
   "cell_type": "code",
   "execution_count": 483,
   "metadata": {},
   "outputs": [
    {
     "name": "stdout",
     "output_type": "stream",
     "text": [
      "Estadístico t: 1.6259419280500857\n",
      "Valor p: 0.10406951359049141\n",
      "No hay suficiente evidencia para rechazar la hipótesis nula.\n",
      "No hay diferencias significativas en las calificaciones promedio de los usuarios para los géneros de Acción y Deportes.\n"
     ]
    }
   ],
   "source": [
    "t_statistic, p_value = stats.ttest_ind(action_ratings, sports_ratings)\n",
    "\n",
    "print(\"Estadístico t:\", t_statistic)\n",
    "print(\"Valor p:\", p_value)\n",
    "\n",
    "alpha = 0.05\n",
    "if p_value < alpha:\n",
    "    print(\"Hay evidencia suficiente para rechazar la hipótesis nula.\")\n",
    "    print(\"Las calificaciones promedio de los usuarios para los géneros de Acción y Deportes son diferentes.\")\n",
    "else:\n",
    "    print(\"No hay suficiente evidencia para rechazar la hipótesis nula.\")\n",
    "    print(\"No hay diferencias significativas en las calificaciones promedio de los usuarios para los géneros de Acción y Deportes.\")"
   ]
  },
  {
   "cell_type": "markdown",
   "metadata": {},
   "source": [
    "De esta forma nos quedamos con nuestra hipostesis nula H0, la cual dicta que **Las calificaciones promedio de los usuarios para los géneros de Acción y Deportes son diferentes.**, Sin embargo esta diferencia promedio entre puntajes no es tan significativa para ambos ambos generos como tal, ya que tienen una difecia de 0.1 en el puntaje para estos generos."
   ]
  },
  {
   "cell_type": "markdown",
   "metadata": {},
   "source": [
    "Tanto Las hipotesis nulas y alternativas fueron generadas a partir de la similitud en tre las calificasiones para ciertas plataformas y generos de juegos en especifico, lo cual es importante, tener presente para la proyeccion del procimo año, ya que de esta manera ahora sabremos mas exactamente es la plataforma y el genero que mas  ha agradado a los usuarios en general, y podriamos empezar ha hacer enfasis en ello."
   ]
  },
  {
   "cell_type": "markdown",
   "metadata": {},
   "source": [
    "Para generar las hipotesis se considero el citerio de la importancia  por que estos generos y plataformas son las que han tenido mejores resultados en el ultimo año, con el obsejitivo de empezar por los generos y plataformnas especificas, que sean mas rentables en los ultimos años."
   ]
  },
  {
   "cell_type": "markdown",
   "metadata": {},
   "source": [
    "# 6 Conslusion general"
   ]
  },
  {
   "cell_type": "markdown",
   "metadata": {},
   "source": [
    "A lo largo de este proyecto hemos logrado una proyeccion sobre las plataformas mas importantes, los generos mas popularers y rentables como tambien las ventas y calificasiones en cada reguion, se detecto patrones relevantes sobre los jusgos mas exitosos al igual que las plataformas mas rentables, para generar prometedores proyectos para el proximo año y planificar excelentes campañas publicitarias, tomando en cuneta las siguientes conclusiones.\n",
    "\n",
    "**1. Las plataformas en promedio tardan de 5 a 9 años en desaparecer y que las nuevas plataformas aparacen de forma pediodica cada que se van descontinuando la plataformas debido a la ausencia de lanzaminetos de juego por año para cada una de ellas.**\n",
    "\n",
    "**2. Si bien existe juegos con mayor cantidad de ventas en otras plataformas. Las que se han mantenido en los ultimos años son los juegos de **'Call of Duty'**, **'Grand Theft Auto'** y **'FIFA'**, y sus versiones mas actualizadas en un volumen estable de ventas acsendentes.**\n",
    "\n",
    "**3. Determinamos de esta manera que los generos mas rentables son los de **'Action'**, **'Sports'** y **'Shooter'**. Y tambien los mas populares debido a que tienen las mejores calidficasiones por usuarios y expertos.**\n",
    "\n",
    "**4. Podriamos generalizar sobre acerca de los géneros con ventas altas, determinando que estas corresponden a genreos que tienen mayor cantidad de plataformas y se actualizan mas contantemente a cada una de ellas.**\n",
    "\n",
    "**5. Las calificaciones promedio de los usuarios para las plataformas 'XboxOne' y 'PC' son diferentes.**\n",
    "\n",
    "**6. Las calificaciones promedio de los usuarios para los géneros de Acción y Deportes son diferentes.**"
   ]
  },
  {
   "cell_type": "markdown",
   "metadata": {},
   "source": [
    "***Tomando en cunta estas conclusiones, el resto de departamnetos optara por tomar excelentes decisiones para el proximo año. Muchos exitos para todo el equipo.***"
   ]
  },
  {
   "cell_type": "markdown",
   "metadata": {},
   "source": [
    "Este ha sido un gran reto para my ya que puse a prueba mis habilidades aprendidas hasta el momento, sin embargo se que ha sido suficiente para llegar con exito al final de este proyecto integrado. Detenrminando una buena proyeccion para el siguiente año y sobre todo generando mucho valor para la compañia a la cual preste mis servicios como analista der datos."
   ]
  }
 ],
 "metadata": {
  "ExecuteTimeLog": [
   {
    "duration": 4785,
    "start_time": "2024-05-21T22:25:16.128Z"
   },
   {
    "duration": 871,
    "start_time": "2024-05-21T22:25:20.918Z"
   },
   {
    "duration": 19,
    "start_time": "2024-05-21T22:25:21.792Z"
   },
   {
    "duration": 13,
    "start_time": "2024-05-21T22:25:21.816Z"
   },
   {
    "duration": 1518,
    "start_time": "2024-05-21T22:25:23.856Z"
   },
   {
    "duration": 0,
    "start_time": "2024-05-21T22:25:25.381Z"
   },
   {
    "duration": 1,
    "start_time": "2024-05-21T22:25:25.382Z"
   },
   {
    "duration": 0,
    "start_time": "2024-05-21T22:25:25.384Z"
   },
   {
    "duration": 0,
    "start_time": "2024-05-21T22:25:25.386Z"
   },
   {
    "duration": 0,
    "start_time": "2024-05-21T22:25:25.388Z"
   },
   {
    "duration": 0,
    "start_time": "2024-05-21T22:25:25.390Z"
   },
   {
    "duration": 0,
    "start_time": "2024-05-21T22:25:25.392Z"
   },
   {
    "duration": 0,
    "start_time": "2024-05-21T22:25:25.413Z"
   },
   {
    "duration": 0,
    "start_time": "2024-05-21T22:25:25.416Z"
   },
   {
    "duration": 0,
    "start_time": "2024-05-21T22:25:25.417Z"
   },
   {
    "duration": 0,
    "start_time": "2024-05-21T22:25:25.419Z"
   },
   {
    "duration": 0,
    "start_time": "2024-05-21T22:25:25.423Z"
   },
   {
    "duration": 0,
    "start_time": "2024-05-21T22:25:25.426Z"
   },
   {
    "duration": 0,
    "start_time": "2024-05-21T22:25:25.428Z"
   },
   {
    "duration": 0,
    "start_time": "2024-05-21T22:25:25.430Z"
   },
   {
    "duration": 0,
    "start_time": "2024-05-21T22:25:25.432Z"
   },
   {
    "duration": 0,
    "start_time": "2024-05-21T22:25:25.434Z"
   },
   {
    "duration": 0,
    "start_time": "2024-05-21T22:25:25.436Z"
   },
   {
    "duration": 0,
    "start_time": "2024-05-21T22:25:25.438Z"
   },
   {
    "duration": 0,
    "start_time": "2024-05-21T22:25:25.441Z"
   },
   {
    "duration": 0,
    "start_time": "2024-05-21T22:25:25.443Z"
   },
   {
    "duration": 0,
    "start_time": "2024-05-21T22:25:25.445Z"
   },
   {
    "duration": 0,
    "start_time": "2024-05-21T22:25:25.447Z"
   },
   {
    "duration": 0,
    "start_time": "2024-05-21T22:25:25.450Z"
   },
   {
    "duration": 0,
    "start_time": "2024-05-21T22:25:25.512Z"
   },
   {
    "duration": 0,
    "start_time": "2024-05-21T22:25:25.519Z"
   },
   {
    "duration": 0,
    "start_time": "2024-05-21T22:25:25.520Z"
   },
   {
    "duration": 0,
    "start_time": "2024-05-21T22:25:25.522Z"
   },
   {
    "duration": 0,
    "start_time": "2024-05-21T22:25:25.523Z"
   },
   {
    "duration": 0,
    "start_time": "2024-05-21T22:25:25.525Z"
   },
   {
    "duration": 0,
    "start_time": "2024-05-21T22:25:25.527Z"
   },
   {
    "duration": 0,
    "start_time": "2024-05-21T22:25:25.529Z"
   },
   {
    "duration": 0,
    "start_time": "2024-05-21T22:25:25.531Z"
   },
   {
    "duration": 0,
    "start_time": "2024-05-21T22:25:25.533Z"
   },
   {
    "duration": 0,
    "start_time": "2024-05-21T22:25:25.534Z"
   },
   {
    "duration": 0,
    "start_time": "2024-05-21T22:25:25.536Z"
   },
   {
    "duration": 0,
    "start_time": "2024-05-21T22:25:25.539Z"
   },
   {
    "duration": 0,
    "start_time": "2024-05-21T22:25:25.541Z"
   },
   {
    "duration": 0,
    "start_time": "2024-05-21T22:25:25.543Z"
   },
   {
    "duration": 0,
    "start_time": "2024-05-21T22:25:25.545Z"
   },
   {
    "duration": 0,
    "start_time": "2024-05-21T22:25:25.547Z"
   },
   {
    "duration": 0,
    "start_time": "2024-05-21T22:25:25.549Z"
   },
   {
    "duration": 0,
    "start_time": "2024-05-21T22:25:25.551Z"
   },
   {
    "duration": 0,
    "start_time": "2024-05-21T22:25:25.613Z"
   },
   {
    "duration": 0,
    "start_time": "2024-05-21T22:25:25.616Z"
   },
   {
    "duration": 0,
    "start_time": "2024-05-21T22:25:25.619Z"
   },
   {
    "duration": 0,
    "start_time": "2024-05-21T22:25:25.621Z"
   },
   {
    "duration": 0,
    "start_time": "2024-05-21T22:25:25.623Z"
   },
   {
    "duration": 0,
    "start_time": "2024-05-21T22:25:25.626Z"
   },
   {
    "duration": 0,
    "start_time": "2024-05-21T22:25:25.629Z"
   },
   {
    "duration": 0,
    "start_time": "2024-05-21T22:25:25.632Z"
   },
   {
    "duration": 0,
    "start_time": "2024-05-21T22:25:25.634Z"
   },
   {
    "duration": 0,
    "start_time": "2024-05-21T22:25:25.635Z"
   },
   {
    "duration": 0,
    "start_time": "2024-05-21T22:25:25.638Z"
   },
   {
    "duration": 0,
    "start_time": "2024-05-21T22:25:25.640Z"
   },
   {
    "duration": 402,
    "start_time": "2024-05-21T22:26:06.951Z"
   },
   {
    "duration": 6,
    "start_time": "2024-05-21T22:26:21.415Z"
   },
   {
    "duration": 6,
    "start_time": "2024-05-21T22:26:24.480Z"
   },
   {
    "duration": 7,
    "start_time": "2024-05-21T22:26:24.810Z"
   },
   {
    "duration": 6,
    "start_time": "2024-05-21T22:27:55.151Z"
   },
   {
    "duration": 13,
    "start_time": "2024-05-21T22:28:20.949Z"
   },
   {
    "duration": 8,
    "start_time": "2024-05-21T22:28:51.168Z"
   },
   {
    "duration": 8,
    "start_time": "2024-05-21T22:28:56.157Z"
   },
   {
    "duration": 4,
    "start_time": "2024-05-21T22:29:31.627Z"
   },
   {
    "duration": 802,
    "start_time": "2024-05-21T22:29:31.635Z"
   },
   {
    "duration": 17,
    "start_time": "2024-05-21T22:29:32.441Z"
   },
   {
    "duration": 13,
    "start_time": "2024-05-21T22:29:32.461Z"
   },
   {
    "duration": 9,
    "start_time": "2024-05-21T22:29:43.115Z"
   },
   {
    "duration": 9,
    "start_time": "2024-05-21T22:29:57.652Z"
   },
   {
    "duration": 7,
    "start_time": "2024-05-21T22:30:13.989Z"
   },
   {
    "duration": 97,
    "start_time": "2024-05-21T22:30:23.741Z"
   },
   {
    "duration": 5,
    "start_time": "2024-05-21T22:30:56.572Z"
   },
   {
    "duration": 6,
    "start_time": "2024-05-21T22:30:58.175Z"
   },
   {
    "duration": 9,
    "start_time": "2024-05-21T22:31:03.660Z"
   },
   {
    "duration": 21,
    "start_time": "2024-05-21T22:31:44.917Z"
   },
   {
    "duration": 6,
    "start_time": "2024-05-21T22:31:46.428Z"
   },
   {
    "duration": 5,
    "start_time": "2024-05-21T22:31:47.770Z"
   },
   {
    "duration": 6,
    "start_time": "2024-05-21T22:31:48.859Z"
   },
   {
    "duration": 12,
    "start_time": "2024-05-21T22:31:50.445Z"
   },
   {
    "duration": 8,
    "start_time": "2024-05-21T22:31:52.491Z"
   },
   {
    "duration": 18,
    "start_time": "2024-05-21T22:31:54.006Z"
   },
   {
    "duration": 8,
    "start_time": "2024-05-21T22:31:55.525Z"
   },
   {
    "duration": 13,
    "start_time": "2024-05-21T22:31:57.191Z"
   },
   {
    "duration": 38,
    "start_time": "2024-05-21T22:31:59.020Z"
   },
   {
    "duration": 31,
    "start_time": "2024-05-21T22:32:01.872Z"
   },
   {
    "duration": 14,
    "start_time": "2024-05-21T22:32:03.346Z"
   },
   {
    "duration": 14,
    "start_time": "2024-05-21T22:32:04.940Z"
   },
   {
    "duration": 9,
    "start_time": "2024-05-21T22:32:05.856Z"
   },
   {
    "duration": 19,
    "start_time": "2024-05-21T22:32:09.431Z"
   },
   {
    "duration": 603,
    "start_time": "2024-05-21T22:32:10.959Z"
   },
   {
    "duration": 11,
    "start_time": "2024-05-21T22:32:14.476Z"
   },
   {
    "duration": 929,
    "start_time": "2024-05-21T22:32:15.256Z"
   },
   {
    "duration": 16,
    "start_time": "2024-05-21T22:32:23.189Z"
   },
   {
    "duration": 28,
    "start_time": "2024-05-21T22:32:28.336Z"
   },
   {
    "duration": 15,
    "start_time": "2024-05-21T22:32:33.521Z"
   },
   {
    "duration": 579,
    "start_time": "2024-05-21T22:32:35.086Z"
   },
   {
    "duration": 609,
    "start_time": "2024-05-21T22:32:38.349Z"
   },
   {
    "duration": 832,
    "start_time": "2024-05-21T22:32:43.424Z"
   },
   {
    "duration": 6,
    "start_time": "2024-05-21T22:32:49.795Z"
   },
   {
    "duration": 17,
    "start_time": "2024-05-21T22:32:51.305Z"
   },
   {
    "duration": 19,
    "start_time": "2024-05-21T22:32:52.949Z"
   },
   {
    "duration": 5,
    "start_time": "2024-05-21T22:32:54.886Z"
   },
   {
    "duration": 306,
    "start_time": "2024-05-21T22:36:59.672Z"
   },
   {
    "duration": 23,
    "start_time": "2024-05-21T22:37:01.768Z"
   },
   {
    "duration": 25,
    "start_time": "2024-05-21T22:37:04.088Z"
   },
   {
    "duration": 16,
    "start_time": "2024-05-21T22:37:06.963Z"
   },
   {
    "duration": 15,
    "start_time": "2024-05-21T22:37:09.165Z"
   },
   {
    "duration": 442,
    "start_time": "2024-05-21T22:37:10.146Z"
   },
   {
    "duration": 15,
    "start_time": "2024-05-21T22:37:12.377Z"
   },
   {
    "duration": 14,
    "start_time": "2024-05-21T22:37:14.148Z"
   },
   {
    "duration": 566,
    "start_time": "2024-05-21T22:37:15.492Z"
   },
   {
    "duration": 31,
    "start_time": "2024-05-21T22:37:22.790Z"
   },
   {
    "duration": 12,
    "start_time": "2024-05-21T22:37:24.561Z"
   },
   {
    "duration": 23,
    "start_time": "2024-05-21T22:37:25.229Z"
   },
   {
    "duration": 26,
    "start_time": "2024-05-21T22:37:28.364Z"
   },
   {
    "duration": 1173,
    "start_time": "2024-05-21T22:37:31.944Z"
   },
   {
    "duration": 16,
    "start_time": "2024-05-21T22:37:36.267Z"
   },
   {
    "duration": 467,
    "start_time": "2024-05-21T22:37:37.708Z"
   },
   {
    "duration": 98,
    "start_time": "2024-05-21T22:37:40.497Z"
   },
   {
    "duration": 21,
    "start_time": "2024-05-21T22:40:11.302Z"
   },
   {
    "duration": 274,
    "start_time": "2024-05-21T22:41:14.977Z"
   },
   {
    "duration": 21,
    "start_time": "2024-05-21T22:41:20.266Z"
   },
   {
    "duration": 11,
    "start_time": "2024-05-21T22:41:21.218Z"
   },
   {
    "duration": 8,
    "start_time": "2024-05-21T22:41:25.044Z"
   },
   {
    "duration": 24,
    "start_time": "2024-05-21T22:41:58.792Z"
   },
   {
    "duration": 13,
    "start_time": "2024-05-21T22:42:01.203Z"
   },
   {
    "duration": 6,
    "start_time": "2024-05-21T22:42:02.064Z"
   },
   {
    "duration": 9,
    "start_time": "2024-05-21T22:42:03.106Z"
   },
   {
    "duration": 5382,
    "start_time": "2024-05-25T03:35:14.509Z"
   },
   {
    "duration": 810,
    "start_time": "2024-05-25T03:35:19.895Z"
   },
   {
    "duration": 22,
    "start_time": "2024-05-25T03:35:30.405Z"
   },
   {
    "duration": 26,
    "start_time": "2024-05-25T03:39:03.295Z"
   },
   {
    "duration": 23,
    "start_time": "2024-05-25T03:39:14.516Z"
   },
   {
    "duration": 19,
    "start_time": "2024-05-25T03:41:33.010Z"
   },
   {
    "duration": 4,
    "start_time": "2024-05-25T03:45:49.792Z"
   },
   {
    "duration": 779,
    "start_time": "2024-05-25T03:45:49.805Z"
   },
   {
    "duration": 21,
    "start_time": "2024-05-25T03:45:50.588Z"
   },
   {
    "duration": 32,
    "start_time": "2024-05-25T03:45:50.612Z"
   },
   {
    "duration": 22,
    "start_time": "2024-05-25T03:45:50.650Z"
   },
   {
    "duration": 8,
    "start_time": "2024-05-25T03:45:50.675Z"
   },
   {
    "duration": 39,
    "start_time": "2024-05-25T03:45:50.689Z"
   },
   {
    "duration": 10,
    "start_time": "2024-05-25T03:45:50.732Z"
   },
   {
    "duration": 23,
    "start_time": "2024-05-25T03:45:50.746Z"
   },
   {
    "duration": 53,
    "start_time": "2024-05-25T03:45:50.773Z"
   },
   {
    "duration": 7,
    "start_time": "2024-05-25T03:45:50.831Z"
   },
   {
    "duration": 8,
    "start_time": "2024-05-25T03:45:50.842Z"
   },
   {
    "duration": 14,
    "start_time": "2024-05-25T03:45:50.854Z"
   },
   {
    "duration": 55,
    "start_time": "2024-05-25T03:45:50.872Z"
   },
   {
    "duration": 18,
    "start_time": "2024-05-25T03:45:50.931Z"
   },
   {
    "duration": 14,
    "start_time": "2024-05-25T03:45:50.953Z"
   },
   {
    "duration": 55,
    "start_time": "2024-05-25T03:45:50.971Z"
   },
   {
    "duration": 51,
    "start_time": "2024-05-25T03:45:51.030Z"
   },
   {
    "duration": 874,
    "start_time": "2024-05-25T03:46:02.354Z"
   },
   {
    "duration": 121,
    "start_time": "2024-05-25T03:51:45.768Z"
   },
   {
    "duration": 36,
    "start_time": "2024-05-25T03:53:34.634Z"
   },
   {
    "duration": 166,
    "start_time": "2024-05-25T03:57:04.433Z"
   },
   {
    "duration": 125,
    "start_time": "2024-05-25T04:03:38.159Z"
   },
   {
    "duration": 5,
    "start_time": "2024-05-25T04:03:46.937Z"
   },
   {
    "duration": 742,
    "start_time": "2024-05-25T04:03:46.953Z"
   },
   {
    "duration": 39,
    "start_time": "2024-05-25T04:03:47.701Z"
   },
   {
    "duration": 26,
    "start_time": "2024-05-25T04:03:47.744Z"
   },
   {
    "duration": 15,
    "start_time": "2024-05-25T04:03:47.775Z"
   },
   {
    "duration": 35,
    "start_time": "2024-05-25T04:03:47.793Z"
   },
   {
    "duration": 9,
    "start_time": "2024-05-25T04:03:47.833Z"
   },
   {
    "duration": 15,
    "start_time": "2024-05-25T04:03:47.847Z"
   },
   {
    "duration": 23,
    "start_time": "2024-05-25T04:03:47.866Z"
   },
   {
    "duration": 7,
    "start_time": "2024-05-25T04:03:47.926Z"
   },
   {
    "duration": 7,
    "start_time": "2024-05-25T04:03:47.941Z"
   },
   {
    "duration": 7,
    "start_time": "2024-05-25T04:03:47.952Z"
   },
   {
    "duration": 15,
    "start_time": "2024-05-25T04:03:47.963Z"
   },
   {
    "duration": 51,
    "start_time": "2024-05-25T04:03:47.981Z"
   },
   {
    "duration": 18,
    "start_time": "2024-05-25T04:03:48.035Z"
   },
   {
    "duration": 11,
    "start_time": "2024-05-25T04:03:48.056Z"
   },
   {
    "duration": 63,
    "start_time": "2024-05-25T04:03:48.071Z"
   },
   {
    "duration": 47,
    "start_time": "2024-05-25T04:03:48.137Z"
   },
   {
    "duration": 126,
    "start_time": "2024-05-25T04:03:54.160Z"
   },
   {
    "duration": 143,
    "start_time": "2024-05-25T04:04:03.756Z"
   },
   {
    "duration": 152,
    "start_time": "2024-05-25T04:05:05.832Z"
   },
   {
    "duration": 130,
    "start_time": "2024-05-25T04:06:36.403Z"
   },
   {
    "duration": 33,
    "start_time": "2024-05-25T04:06:53.829Z"
   },
   {
    "duration": 15,
    "start_time": "2024-05-25T04:21:29.452Z"
   },
   {
    "duration": 1257,
    "start_time": "2024-05-25T04:21:31.006Z"
   },
   {
    "duration": 11,
    "start_time": "2024-05-25T04:24:06.013Z"
   },
   {
    "duration": 652,
    "start_time": "2024-05-25T04:24:07.064Z"
   },
   {
    "duration": 4,
    "start_time": "2024-05-25T04:31:17.084Z"
   },
   {
    "duration": 855,
    "start_time": "2024-05-25T04:31:17.097Z"
   },
   {
    "duration": 24,
    "start_time": "2024-05-25T04:31:17.957Z"
   },
   {
    "duration": 54,
    "start_time": "2024-05-25T04:31:17.986Z"
   },
   {
    "duration": 15,
    "start_time": "2024-05-25T04:31:18.044Z"
   },
   {
    "duration": 5,
    "start_time": "2024-05-25T04:31:18.067Z"
   },
   {
    "duration": 7,
    "start_time": "2024-05-25T04:31:18.077Z"
   },
   {
    "duration": 15,
    "start_time": "2024-05-25T04:31:18.127Z"
   },
   {
    "duration": 22,
    "start_time": "2024-05-25T04:31:18.148Z"
   },
   {
    "duration": 10,
    "start_time": "2024-05-25T04:31:18.174Z"
   },
   {
    "duration": 39,
    "start_time": "2024-05-25T04:31:18.187Z"
   },
   {
    "duration": 8,
    "start_time": "2024-05-25T04:31:18.232Z"
   },
   {
    "duration": 18,
    "start_time": "2024-05-25T04:31:18.243Z"
   },
   {
    "duration": 10,
    "start_time": "2024-05-25T04:31:18.265Z"
   },
   {
    "duration": 56,
    "start_time": "2024-05-25T04:31:18.287Z"
   },
   {
    "duration": 10,
    "start_time": "2024-05-25T04:31:18.346Z"
   },
   {
    "duration": 21,
    "start_time": "2024-05-25T04:31:18.359Z"
   },
   {
    "duration": 86,
    "start_time": "2024-05-25T04:31:18.384Z"
   },
   {
    "duration": 60,
    "start_time": "2024-05-25T04:31:18.475Z"
   },
   {
    "duration": 14,
    "start_time": "2024-05-25T04:31:18.538Z"
   },
   {
    "duration": 15,
    "start_time": "2024-05-25T04:31:18.557Z"
   },
   {
    "duration": 56,
    "start_time": "2024-05-25T04:31:18.576Z"
   },
   {
    "duration": 24,
    "start_time": "2024-05-25T04:31:18.636Z"
   },
   {
    "duration": 633,
    "start_time": "2024-05-25T04:31:18.664Z"
   },
   {
    "duration": 29,
    "start_time": "2024-05-25T04:31:19.301Z"
   },
   {
    "duration": 680,
    "start_time": "2024-05-25T04:31:19.334Z"
   },
   {
    "duration": 25,
    "start_time": "2024-05-25T04:31:20.018Z"
   },
   {
    "duration": 29,
    "start_time": "2024-05-25T04:31:20.047Z"
   },
   {
    "duration": 48,
    "start_time": "2024-05-25T04:31:20.080Z"
   },
   {
    "duration": 726,
    "start_time": "2024-05-25T04:31:20.132Z"
   },
   {
    "duration": 836,
    "start_time": "2024-05-25T04:31:20.862Z"
   },
   {
    "duration": 12,
    "start_time": "2024-05-25T04:31:27.868Z"
   },
   {
    "duration": 980,
    "start_time": "2024-05-25T04:31:28.767Z"
   },
   {
    "duration": 5,
    "start_time": "2024-05-25T04:45:07.199Z"
   },
   {
    "duration": 786,
    "start_time": "2024-05-25T04:45:07.209Z"
   },
   {
    "duration": 22,
    "start_time": "2024-05-25T04:45:07.998Z"
   },
   {
    "duration": 28,
    "start_time": "2024-05-25T04:45:08.025Z"
   },
   {
    "duration": 15,
    "start_time": "2024-05-25T04:45:08.056Z"
   },
   {
    "duration": 6,
    "start_time": "2024-05-25T04:45:08.074Z"
   },
   {
    "duration": 42,
    "start_time": "2024-05-25T04:45:08.084Z"
   },
   {
    "duration": 8,
    "start_time": "2024-05-25T04:45:08.130Z"
   },
   {
    "duration": 25,
    "start_time": "2024-05-25T04:45:08.145Z"
   },
   {
    "duration": 8,
    "start_time": "2024-05-25T04:45:08.173Z"
   },
   {
    "duration": 45,
    "start_time": "2024-05-25T04:45:08.185Z"
   },
   {
    "duration": 19,
    "start_time": "2024-05-25T04:45:08.234Z"
   },
   {
    "duration": 23,
    "start_time": "2024-05-25T04:45:08.257Z"
   },
   {
    "duration": 40,
    "start_time": "2024-05-25T04:45:08.287Z"
   },
   {
    "duration": 27,
    "start_time": "2024-05-25T04:45:08.335Z"
   },
   {
    "duration": 10,
    "start_time": "2024-05-25T04:45:08.367Z"
   },
   {
    "duration": 46,
    "start_time": "2024-05-25T04:45:08.381Z"
   },
   {
    "duration": 50,
    "start_time": "2024-05-25T04:45:08.431Z"
   },
   {
    "duration": 64,
    "start_time": "2024-05-25T04:45:08.484Z"
   },
   {
    "duration": 17,
    "start_time": "2024-05-25T04:45:08.552Z"
   },
   {
    "duration": 15,
    "start_time": "2024-05-25T04:45:08.573Z"
   },
   {
    "duration": 43,
    "start_time": "2024-05-25T04:45:08.592Z"
   },
   {
    "duration": 26,
    "start_time": "2024-05-25T04:45:08.639Z"
   },
   {
    "duration": 622,
    "start_time": "2024-05-25T04:45:08.675Z"
   },
   {
    "duration": 37,
    "start_time": "2024-05-25T04:45:09.301Z"
   },
   {
    "duration": 736,
    "start_time": "2024-05-25T04:45:09.341Z"
   },
   {
    "duration": 17,
    "start_time": "2024-05-25T04:45:10.086Z"
   },
   {
    "duration": 42,
    "start_time": "2024-05-25T04:45:10.107Z"
   },
   {
    "duration": 16,
    "start_time": "2024-05-25T04:45:10.152Z"
   },
   {
    "duration": 853,
    "start_time": "2024-05-25T04:45:10.174Z"
   },
   {
    "duration": 673,
    "start_time": "2024-05-25T04:45:11.030Z"
   },
   {
    "duration": 21,
    "start_time": "2024-05-25T04:45:11.707Z"
   },
   {
    "duration": 1045,
    "start_time": "2024-05-25T04:45:11.738Z"
   },
   {
    "duration": 9,
    "start_time": "2024-05-25T04:45:12.788Z"
   },
   {
    "duration": 21,
    "start_time": "2024-05-25T04:45:12.826Z"
   },
   {
    "duration": 22,
    "start_time": "2024-05-25T04:45:12.851Z"
   },
   {
    "duration": 6,
    "start_time": "2024-05-25T04:45:12.876Z"
   },
   {
    "duration": 437,
    "start_time": "2024-05-25T04:45:12.886Z"
   },
   {
    "duration": 29,
    "start_time": "2024-05-25T04:45:13.328Z"
   },
   {
    "duration": 29,
    "start_time": "2024-05-25T04:45:13.361Z"
   },
   {
    "duration": 50,
    "start_time": "2024-05-25T04:45:13.394Z"
   },
   {
    "duration": 19,
    "start_time": "2024-05-25T04:45:13.448Z"
   },
   {
    "duration": 534,
    "start_time": "2024-05-25T04:45:13.471Z"
   },
   {
    "duration": 28,
    "start_time": "2024-05-25T04:45:14.010Z"
   },
   {
    "duration": 13,
    "start_time": "2024-05-25T04:45:14.042Z"
   },
   {
    "duration": 528,
    "start_time": "2024-05-25T04:45:14.060Z"
   },
   {
    "duration": 40,
    "start_time": "2024-05-25T04:45:14.592Z"
   },
   {
    "duration": 12,
    "start_time": "2024-05-25T04:45:14.636Z"
   },
   {
    "duration": 27,
    "start_time": "2024-05-25T04:45:14.651Z"
   },
   {
    "duration": 54,
    "start_time": "2024-05-25T04:45:14.682Z"
   },
   {
    "duration": 1371,
    "start_time": "2024-05-25T04:45:14.740Z"
   },
   {
    "duration": 25,
    "start_time": "2024-05-25T04:45:16.115Z"
   },
   {
    "duration": 521,
    "start_time": "2024-05-25T04:45:16.144Z"
   },
   {
    "duration": 22,
    "start_time": "2024-05-25T04:45:16.668Z"
   },
   {
    "duration": 344,
    "start_time": "2024-05-25T04:45:16.693Z"
   },
   {
    "duration": 21,
    "start_time": "2024-05-25T04:45:17.041Z"
   },
   {
    "duration": 12,
    "start_time": "2024-05-25T04:45:17.064Z"
   },
   {
    "duration": 47,
    "start_time": "2024-05-25T04:45:17.079Z"
   },
   {
    "duration": 24,
    "start_time": "2024-05-25T04:45:17.131Z"
   },
   {
    "duration": 15,
    "start_time": "2024-05-25T04:45:17.159Z"
   },
   {
    "duration": 6,
    "start_time": "2024-05-25T04:45:17.177Z"
   },
   {
    "duration": 184,
    "start_time": "2024-05-25T04:45:24.414Z"
   },
   {
    "duration": 15,
    "start_time": "2024-05-25T04:46:11.293Z"
   },
   {
    "duration": 8,
    "start_time": "2024-05-25T04:46:12.365Z"
   },
   {
    "duration": 32,
    "start_time": "2024-05-25T04:46:13.104Z"
   },
   {
    "duration": 10,
    "start_time": "2024-05-25T04:47:31.816Z"
   },
   {
    "duration": 9,
    "start_time": "2024-05-25T04:47:32.504Z"
   },
   {
    "duration": 8,
    "start_time": "2024-05-25T04:47:51.683Z"
   },
   {
    "duration": 18,
    "start_time": "2024-05-25T04:48:50.516Z"
   },
   {
    "duration": 8,
    "start_time": "2024-05-25T04:48:51.380Z"
   }
  ],
  "kernelspec": {
   "display_name": "Python 3 (ipykernel)",
   "language": "python",
   "name": "python3"
  },
  "language_info": {
   "codemirror_mode": {
    "name": "ipython",
    "version": 3
   },
   "file_extension": ".py",
   "mimetype": "text/x-python",
   "name": "python",
   "nbconvert_exporter": "python",
   "pygments_lexer": "ipython3",
   "version": "3.12.2"
  },
  "toc": {
   "base_numbering": 1,
   "nav_menu": {},
   "number_sections": true,
   "sideBar": true,
   "skip_h1_title": true,
   "title_cell": "Table of Contents",
   "title_sidebar": "Contents",
   "toc_cell": false,
   "toc_position": {},
   "toc_section_display": true,
   "toc_window_display": true
  }
 },
 "nbformat": 4,
 "nbformat_minor": 2
}
